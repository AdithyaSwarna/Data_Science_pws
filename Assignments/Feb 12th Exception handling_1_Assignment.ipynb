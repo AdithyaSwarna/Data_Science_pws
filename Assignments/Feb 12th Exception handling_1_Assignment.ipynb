{
 "cells": [
  {
   "cell_type": "markdown",
   "id": "a8655589-7740-41fa-8f85-09fc9b216dfc",
   "metadata": {},
   "source": [
    "### Q1"
   ]
  },
  {
   "cell_type": "markdown",
   "id": "94e65843-842c-4c4d-864b-bf8ac19c4d77",
   "metadata": {},
   "source": [
    "### An exception is an event, which occurs during the execution of a program that disrupts the normal flow of the program's instructions.\n",
    "### When a Python script raises an exception, it must either handle the exception immediately otherwise it terminates and quits.\n",
    "### Syntax errors often called as parsing errors, are predominantly caused when the parser detects a syntactic issue in code.\n",
    "### Python exceptions are errors that are detected during execution.\n",
    "### Below are examples of syntax errors and exceptions"
   ]
  },
  {
   "cell_type": "code",
   "execution_count": 1,
   "id": "64df815f-7cb1-4d1f-997a-c8b59a8a6531",
   "metadata": {},
   "outputs": [
    {
     "ename": "ValueError",
     "evalue": "too many values to unpack (expected 2)",
     "output_type": "error",
     "traceback": [
      "\u001b[0;31m---------------------------------------------------------------------------\u001b[0m",
      "\u001b[0;31mValueError\u001b[0m                                Traceback (most recent call last)",
      "Cell \u001b[0;32mIn[1], line 1\u001b[0m\n\u001b[0;32m----> 1\u001b[0m a,b \u001b[38;5;241m=\u001b[39m \u001b[38;5;241m1\u001b[39m,\u001b[38;5;241m2\u001b[39m,\u001b[38;5;241m3\u001b[39m\n",
      "\u001b[0;31mValueError\u001b[0m: too many values to unpack (expected 2)"
     ]
    }
   ],
   "source": [
    "a,b = 1,2,3"
   ]
  },
  {
   "cell_type": "markdown",
   "id": "6f6396c2-f932-45da-ad3c-95784a18740d",
   "metadata": {},
   "source": [
    "### Above one is syntax error, this cannot be handled at runtime."
   ]
  },
  {
   "cell_type": "code",
   "execution_count": 3,
   "id": "a3a7c769-b03f-4fd6-ba35-47f4d6934dfa",
   "metadata": {},
   "outputs": [
    {
     "ename": "ZeroDivisionError",
     "evalue": "division by zero",
     "output_type": "error",
     "traceback": [
      "\u001b[0;31m---------------------------------------------------------------------------\u001b[0m",
      "\u001b[0;31mZeroDivisionError\u001b[0m                         Traceback (most recent call last)",
      "Cell \u001b[0;32mIn[3], line 1\u001b[0m\n\u001b[0;32m----> 1\u001b[0m \u001b[38;5;241;43m10\u001b[39;49m\u001b[38;5;241;43m/\u001b[39;49m\u001b[38;5;241;43m0\u001b[39;49m\n",
      "\u001b[0;31mZeroDivisionError\u001b[0m: division by zero"
     ]
    }
   ],
   "source": [
    "10/0"
   ]
  },
  {
   "cell_type": "markdown",
   "id": "5e1fe5a9-afa5-491e-8193-e4bb8767e590",
   "metadata": {},
   "source": [
    "### Above one is an exception which can be handled at runtime."
   ]
  },
  {
   "cell_type": "markdown",
   "id": "fbae88f0-91e5-4b27-98a8-d185f588e97a",
   "metadata": {},
   "source": [
    "### Q2"
   ]
  },
  {
   "cell_type": "markdown",
   "id": "ea95b5a2-1213-45f9-88be-1e4c623ea870",
   "metadata": {},
   "source": [
    "### When an exception is not handled then it will terminate the program/script flow and quits.\n",
    "### Below are examples for code with and without exception handling."
   ]
  },
  {
   "cell_type": "code",
   "execution_count": 6,
   "id": "9b01b612-170a-48f2-ade3-17fa43dbd13d",
   "metadata": {},
   "outputs": [
    {
     "ename": "ZeroDivisionError",
     "evalue": "division by zero",
     "output_type": "error",
     "traceback": [
      "\u001b[0;31m---------------------------------------------------------------------------\u001b[0m",
      "\u001b[0;31mZeroDivisionError\u001b[0m                         Traceback (most recent call last)",
      "Cell \u001b[0;32mIn[6], line 2\u001b[0m\n\u001b[1;32m      1\u001b[0m \u001b[38;5;66;03m#without exception handling\u001b[39;00m\n\u001b[0;32m----> 2\u001b[0m a \u001b[38;5;241m=\u001b[39m \u001b[38;5;241;43m10\u001b[39;49m\u001b[38;5;241;43m/\u001b[39;49m\u001b[38;5;241;43m0\u001b[39;49m\n\u001b[1;32m      3\u001b[0m \u001b[38;5;28mprint\u001b[39m(\u001b[38;5;124m\"\u001b[39m\u001b[38;5;124mThis line will not print\u001b[39m\u001b[38;5;124m\"\u001b[39m)\n",
      "\u001b[0;31mZeroDivisionError\u001b[0m: division by zero"
     ]
    }
   ],
   "source": [
    "#without exception handling\n",
    "a = 10/0\n",
    "print(\"This line will not print\")"
   ]
  },
  {
   "cell_type": "code",
   "execution_count": 5,
   "id": "e9fcf93a-ee52-4aeb-a44c-51d924ef1cad",
   "metadata": {},
   "outputs": [
    {
     "name": "stdout",
     "output_type": "stream",
     "text": [
      "division by zero\n",
      "This line shows that program didn't get terminated\n"
     ]
    }
   ],
   "source": [
    "#with exception handling\n",
    "try:\n",
    "    a = 10/0\n",
    "except ZeroDivisionError as e:\n",
    "    print(e)\n",
    "print(\"This line shows that program didn't get terminated\")"
   ]
  },
  {
   "cell_type": "markdown",
   "id": "99599b98-5f6e-4705-8c46-ba2f5fabbd82",
   "metadata": {},
   "source": [
    "### In above two example codes we can see when exception is handled then flow didn't get terminated which isn't the case when exception is not handled."
   ]
  },
  {
   "cell_type": "markdown",
   "id": "42405f2d-81ca-4848-9087-5846ece4b481",
   "metadata": {},
   "source": [
    "### Q3"
   ]
  },
  {
   "cell_type": "markdown",
   "id": "68c8be49-9398-4e44-bd1d-f6504d78472b",
   "metadata": {},
   "source": [
    "### We use the below statments in the specified order.\n",
    "````Python\n",
    "try:\n",
    "    code which might raise an exception\n",
    "except ExceptionI as e:\n",
    "    handle ExceptionI here\n",
    "except ExceptionII as e:\n",
    "    handle ExceptionII here\n",
    "except Exception as e:\n",
    "    handle any general exceptions here\n",
    "else:\n",
    "    write code here what have to be done if try block is succesful\n",
    "finally:\n",
    "    code to run irrespective of the exceptions.\n",
    "````"
   ]
  },
  {
   "cell_type": "code",
   "execution_count": 8,
   "id": "5139f0d5-5a0f-4a45-8cef-f2fcab24dad8",
   "metadata": {},
   "outputs": [],
   "source": [
    "def example():\n",
    "    try:\n",
    "        a = int(input(\"Enter first number\")) / int(input(\"Enter second number\"))\n",
    "    except ZeroDivisionError as e:\n",
    "        print(e)\n",
    "    except TypeError as e:\n",
    "        print(e)\n",
    "    except Exception as e:\n",
    "        print(e)\n",
    "    else:\n",
    "        print(\"a=\",a)\n",
    "    finally:\n",
    "        print(\"Completed\")"
   ]
  },
  {
   "cell_type": "code",
   "execution_count": 9,
   "id": "f8b0a7d6-0881-4c1f-a2bb-28bb0b55f8a4",
   "metadata": {},
   "outputs": [
    {
     "name": "stdin",
     "output_type": "stream",
     "text": [
      "Enter first number 10\n",
      "Enter second number 10\n"
     ]
    },
    {
     "name": "stdout",
     "output_type": "stream",
     "text": [
      "a= 1.0\n",
      "Completed\n"
     ]
    }
   ],
   "source": [
    "example()"
   ]
  },
  {
   "cell_type": "code",
   "execution_count": 10,
   "id": "4ef2b654-e797-4127-b849-38442a68365d",
   "metadata": {},
   "outputs": [
    {
     "name": "stdin",
     "output_type": "stream",
     "text": [
      "Enter first number 10\n",
      "Enter second number 0\n"
     ]
    },
    {
     "name": "stdout",
     "output_type": "stream",
     "text": [
      "division by zero\n",
      "Completed\n"
     ]
    }
   ],
   "source": [
    "example()"
   ]
  },
  {
   "cell_type": "code",
   "execution_count": 11,
   "id": "b7414c53-8f43-4136-a2a6-2adec904271d",
   "metadata": {},
   "outputs": [
    {
     "name": "stdin",
     "output_type": "stream",
     "text": [
      "Enter first number 10\n",
      "Enter second number abc\n"
     ]
    },
    {
     "name": "stdout",
     "output_type": "stream",
     "text": [
      "invalid literal for int() with base 10: 'abc'\n",
      "Completed\n"
     ]
    }
   ],
   "source": [
    "example()"
   ]
  },
  {
   "cell_type": "markdown",
   "id": "cf12bd9b-1b60-46e5-867f-db9ceba4d4b8",
   "metadata": {},
   "source": [
    "### Above three executions of example() function show different cases."
   ]
  },
  {
   "cell_type": "markdown",
   "id": "9722bf04-134a-4214-817c-34872f0483f0",
   "metadata": {},
   "source": [
    "### Q4"
   ]
  },
  {
   "cell_type": "code",
   "execution_count": 13,
   "id": "0921d243-a114-42e6-a245-bc0adc8e8b52",
   "metadata": {},
   "outputs": [],
   "source": [
    "def example1():\n",
    "    try:\n",
    "        a = int(input(\"Enter first number\")) / int(input(\"Enter second number\"))\n",
    "    except ZeroDivisionError as e:\n",
    "        print(e)\n",
    "    else:\n",
    "        print(\"a=\",a)"
   ]
  },
  {
   "cell_type": "code",
   "execution_count": 14,
   "id": "35a8eb16-6138-46cc-ac9f-931efd664d32",
   "metadata": {},
   "outputs": [
    {
     "name": "stdin",
     "output_type": "stream",
     "text": [
      "Enter first number 10\n",
      "Enter second number 10\n"
     ]
    },
    {
     "name": "stdout",
     "output_type": "stream",
     "text": [
      "a= 1.0\n"
     ]
    }
   ],
   "source": [
    "example1()"
   ]
  },
  {
   "cell_type": "code",
   "execution_count": 15,
   "id": "4e5fb8b1-3a1b-4e25-bf38-2edab883c8d0",
   "metadata": {},
   "outputs": [
    {
     "name": "stdin",
     "output_type": "stream",
     "text": [
      "Enter first number 10\n",
      "Enter second number 0\n"
     ]
    },
    {
     "name": "stdout",
     "output_type": "stream",
     "text": [
      "division by zero\n"
     ]
    }
   ],
   "source": [
    "example1()"
   ]
  },
  {
   "cell_type": "markdown",
   "id": "28efd5a4-fca5-420c-9cd0-f4d1029d4f00",
   "metadata": {},
   "source": [
    "### Above one is example for try and else. When there is no exception in try block the else is executed otherwise except is exceuted."
   ]
  },
  {
   "cell_type": "code",
   "execution_count": 16,
   "id": "4da68474-fc58-4095-a5ff-a4afbba12cb9",
   "metadata": {},
   "outputs": [],
   "source": [
    "def example2():\n",
    "    try:\n",
    "        a = int(input(\"Enter first number\")) / int(input(\"Enter second number\"))\n",
    "    except ZeroDivisionError as e:\n",
    "        print(e)\n",
    "    finally:\n",
    "        print(\"Completed\")"
   ]
  },
  {
   "cell_type": "code",
   "execution_count": 17,
   "id": "89ac9646-bfea-4c3b-9daa-50d2255005ce",
   "metadata": {},
   "outputs": [
    {
     "name": "stdin",
     "output_type": "stream",
     "text": [
      "Enter first number 10\n",
      "Enter second number 10\n"
     ]
    },
    {
     "name": "stdout",
     "output_type": "stream",
     "text": [
      "Completed\n"
     ]
    }
   ],
   "source": [
    "example2()"
   ]
  },
  {
   "cell_type": "code",
   "execution_count": 18,
   "id": "1eb73e5f-b730-46a4-a3c6-12faad7badb8",
   "metadata": {},
   "outputs": [
    {
     "name": "stdin",
     "output_type": "stream",
     "text": [
      "Enter first number 10\n",
      "Enter second number 0\n"
     ]
    },
    {
     "name": "stdout",
     "output_type": "stream",
     "text": [
      "division by zero\n",
      "Completed\n"
     ]
    }
   ],
   "source": [
    "example2()"
   ]
  },
  {
   "cell_type": "markdown",
   "id": "e7b96657-1408-4229-8895-4218e1bbbee9",
   "metadata": {},
   "source": [
    "### Above one is an example for finally, irrespective of exceptions finally block will run."
   ]
  },
  {
   "cell_type": "code",
   "execution_count": 22,
   "id": "860ae25b-335a-4af7-afdf-f14759a2f3a6",
   "metadata": {},
   "outputs": [
    {
     "name": "stdout",
     "output_type": "stream",
     "text": [
      "An exception\n"
     ]
    }
   ],
   "source": [
    "try:\n",
    "\traise NameError(\"Hi there\")\n",
    "except NameError:\n",
    "\tprint (\"An exception\")"
   ]
  },
  {
   "cell_type": "markdown",
   "id": "42ea5bfb-585b-4ce3-b069-50d63baa21f5",
   "metadata": {},
   "source": [
    "### Above code is an example for raise keyword to raise a user-defined exceptions."
   ]
  },
  {
   "cell_type": "markdown",
   "id": "e37270de-6321-4513-8d56-a969982cfac5",
   "metadata": {},
   "source": [
    "### Q5"
   ]
  },
  {
   "cell_type": "markdown",
   "id": "de4bd498-3002-432b-8017-f63e55ada8ba",
   "metadata": {},
   "source": [
    "### Custom Exceptions are exception defined by user using class definitions and inheriting the exception or any other specific exception classes.\n",
    "### Whereever we want a custom message for a specific task or exception we use custom exceptions.\n",
    "### Below is an example."
   ]
  },
  {
   "cell_type": "code",
   "execution_count": 2,
   "id": "d9bcfdb7-2a03-4484-b89a-b21ddbae561f",
   "metadata": {},
   "outputs": [
    {
     "name": "stdin",
     "output_type": "stream",
     "text": [
      "Enter a number:  16\n"
     ]
    },
    {
     "name": "stdout",
     "output_type": "stream",
     "text": [
      "Exception occurred: Invalid Age\n"
     ]
    }
   ],
   "source": [
    "class InvalidAgeException(Exception):\n",
    "    \"Raised when the input value is less than 18\"\n",
    "    pass\n",
    "\n",
    "number = 18\n",
    "\n",
    "try:\n",
    "    input_num = int(input(\"Enter a number: \"))\n",
    "    if input_num < number:\n",
    "        raise InvalidAgeException\n",
    "    else:\n",
    "        print(\"Eligible to Vote\")\n",
    "        \n",
    "except InvalidAgeException:\n",
    "    print(\"Exception occurred: Invalid Age\")"
   ]
  },
  {
   "cell_type": "markdown",
   "id": "65f11a87-79d6-4d2f-a90b-b6cbf9713970",
   "metadata": {},
   "source": [
    "### Q6"
   ]
  },
  {
   "cell_type": "markdown",
   "id": "dfd7262d-163d-46bb-8c12-05e2c91cc4a9",
   "metadata": {},
   "source": [
    "### Above example can be considered. InvalidAgeException is custom exception class. Raise in try block is used to raise the error and except to catch the specific error"
   ]
  },
  {
   "cell_type": "code",
   "execution_count": 3,
   "id": "ab6797f4-f5f6-46bb-aa80-3e7d006afcc4",
   "metadata": {},
   "outputs": [
    {
     "name": "stdin",
     "output_type": "stream",
     "text": [
      "Enter a number:  18\n"
     ]
    },
    {
     "name": "stdout",
     "output_type": "stream",
     "text": [
      "Eligible to Vote\n"
     ]
    }
   ],
   "source": [
    "class InvalidAgeException(Exception):\n",
    "    \"Raised when the input value is less than 18\"\n",
    "    pass\n",
    "\n",
    "number = 18\n",
    "\n",
    "try:\n",
    "    input_num = int(input(\"Enter a number: \"))\n",
    "    if input_num < number:\n",
    "        raise InvalidAgeException\n",
    "    else:\n",
    "        print(\"Eligible to Vote\")\n",
    "        \n",
    "except InvalidAgeException:\n",
    "    print(\"Exception occurred: Invalid Age\")"
   ]
  },
  {
   "cell_type": "code",
   "execution_count": 4,
   "id": "7c509f8a-95d3-46cf-8de0-2f371ae99d0c",
   "metadata": {},
   "outputs": [
    {
     "name": "stdin",
     "output_type": "stream",
     "text": [
      "Enter a number:  40\n"
     ]
    },
    {
     "name": "stdout",
     "output_type": "stream",
     "text": [
      "Eligible to Vote\n"
     ]
    }
   ],
   "source": [
    "class InvalidAgeException(Exception):\n",
    "    \"Raised when the input value is less than 18\"\n",
    "    pass\n",
    "\n",
    "number = 18\n",
    "\n",
    "try:\n",
    "    input_num = int(input(\"Enter a number: \"))\n",
    "    if input_num < number:\n",
    "        raise InvalidAgeException\n",
    "    else:\n",
    "        print(\"Eligible to Vote\")\n",
    "        \n",
    "except InvalidAgeException:\n",
    "    print(\"Exception occurred: Invalid Age\")"
   ]
  },
  {
   "cell_type": "code",
   "execution_count": 5,
   "id": "36486aa2-21d6-44d1-b351-e2ebca05bead",
   "metadata": {},
   "outputs": [
    {
     "name": "stdin",
     "output_type": "stream",
     "text": [
      "Enter a number:  5\n"
     ]
    },
    {
     "name": "stdout",
     "output_type": "stream",
     "text": [
      "Exception occurred: Invalid Age\n"
     ]
    }
   ],
   "source": [
    "class InvalidAgeException(Exception):\n",
    "    \"Raised when the input value is less than 18\"\n",
    "    pass\n",
    "\n",
    "number = 18\n",
    "\n",
    "try:\n",
    "    input_num = int(input(\"Enter a number: \"))\n",
    "    if input_num < number:\n",
    "        raise InvalidAgeException\n",
    "    else:\n",
    "        print(\"Eligible to Vote\")\n",
    "        \n",
    "except InvalidAgeException:\n",
    "    print(\"Exception occurred: Invalid Age\")"
   ]
  }
 ],
 "metadata": {
  "kernelspec": {
   "display_name": "Python 3 (ipykernel)",
   "language": "python",
   "name": "python3"
  },
  "language_info": {
   "codemirror_mode": {
    "name": "ipython",
    "version": 3
   },
   "file_extension": ".py",
   "mimetype": "text/x-python",
   "name": "python",
   "nbconvert_exporter": "python",
   "pygments_lexer": "ipython3",
   "version": "3.10.8"
  }
 },
 "nbformat": 4,
 "nbformat_minor": 5
}
