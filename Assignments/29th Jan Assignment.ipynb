{
 "cells": [
  {
   "cell_type": "markdown",
   "id": "abebc192-c51a-4cd1-a4bf-ff1b7fca49a9",
   "metadata": {},
   "source": [
    "### Q1)Who developed Python Programming Language?\n",
    "### A) Guido van Rossum"
   ]
  },
  {
   "cell_type": "markdown",
   "id": "913fc1d8-6d89-4d73-9eb5-3c887d2a3ce7",
   "metadata": {},
   "source": [
    "### Q2) Which type of programming does python support?\n",
    "### A) Python is an interpreted programming language, supporting object-oriented, structured, and functional programming."
   ]
  },
  {
   "cell_type": "markdown",
   "id": "ad6692b0-6e8c-4dcf-b2da-ab9802476791",
   "metadata": {},
   "source": [
    "### Q3) Is Python case sensitive when dealing with identifiers?\n",
    "### A) Yes, Python is case sensitive when dealing with identifiers."
   ]
  },
  {
   "cell_type": "markdown",
   "id": "0c44c54c-850c-4470-9c72-545aa9b45031",
   "metadata": {},
   "source": [
    "### Q4) What is the correct extension of the Python file?\n",
    "### A) **.py** is the extension. For notebooks like jupyter it is **.ipynb**"
   ]
  },
  {
   "cell_type": "markdown",
   "id": "b3eace2b-dcec-4c6a-be42-16f92b705002",
   "metadata": {},
   "source": [
    "### Q5) Is Python code compiled or interpreted?\n",
    "### A) Python programs are both compiled as well as interpreted, but the compilation part is hidden from the programmer. Therefore, it is generally said, Python is an interpreted language."
   ]
  },
  {
   "cell_type": "markdown",
   "id": "da145c63-1d5a-4707-afce-fe670bb0fda9",
   "metadata": {},
   "source": [
    "### Q6) Name a few blocks of code used to define in Python language\n",
    "### A) 1. Indentation\n",
    "###    2. def --> function declaration\n",
    "###    3. loops like for, while\n",
    "###    4. class,  constructors, @methods like static, etc.\n",
    "###    Above points 2 to 4 use indentation to distinguish with other blocks"
   ]
  },
  {
   "cell_type": "markdown",
   "id": "519d9f16-e942-4765-998b-13062bf3f140",
   "metadata": {},
   "source": [
    "### Q7) State a character used to give single-line comments in Python?\n",
    "### A) `#` is the charater used to comment code"
   ]
  },
  {
   "cell_type": "markdown",
   "id": "af4857d8-330e-4cf0-b47e-f4a8a366814c",
   "metadata": {},
   "source": [
    "### Q8) Mention functions which can help us to find the version of python that we are currently working  on?\n",
    "### A) Below are two ways"
   ]
  },
  {
   "cell_type": "code",
   "execution_count": 7,
   "id": "97acc99d-a03a-4249-978e-20f884035207",
   "metadata": {},
   "outputs": [
    {
     "name": "stdout",
     "output_type": "stream",
     "text": [
      "3.10.8 | packaged by conda-forge | (main, Nov 22 2022, 08:26:04) [GCC 10.4.0]\n"
     ]
    }
   ],
   "source": [
    "#for python script or notebooks\n",
    "import sys\n",
    "\n",
    "print(sys.version)"
   ]
  },
  {
   "cell_type": "code",
   "execution_count": 8,
   "id": "3896eb88-9daf-4f63-a576-6d422fca4ba0",
   "metadata": {},
   "outputs": [
    {
     "name": "stdout",
     "output_type": "stream",
     "text": [
      "3.10.8\n"
     ]
    }
   ],
   "source": [
    "#for notebooks\n",
    "from platform import python_version\n",
    "\n",
    "print(python_version())"
   ]
  },
  {
   "cell_type": "markdown",
   "id": "2311789c-816b-4f69-b8c8-74750325fb29",
   "metadata": {},
   "source": [
    "### Q9) Python supports the creation of anonymous functions at runtime, using a construct called ------------\n",
    "### A) `lambda`"
   ]
  },
  {
   "cell_type": "markdown",
   "id": "12081948-1694-4067-b622-c41c1e434d88",
   "metadata": {},
   "source": [
    "### Q10) What does pip stand for Python?\n",
    "### A) pip is acronym for **Preferred Installer Program**. Used to install, reinstall, or uninstall packages."
   ]
  },
  {
   "cell_type": "markdown",
   "id": "aa3d4293-c743-43f9-a89d-5fd6dd276f26",
   "metadata": {},
   "source": [
    "### Q11) Mention a few built-in functions in Python?\n",
    "### A) 1. `print()`\n",
    "### 2.`type()`\n",
    "### 3. `len()`\n",
    "### 4. `input()`"
   ]
  },
  {
   "cell_type": "markdown",
   "id": "bc18949d-4cf0-4d9b-bbc5-cc6d4994f475",
   "metadata": {},
   "source": [
    "### Q12) What is the maximum possible length of an identifier in Python?\n",
    "### A) 79 caharacters"
   ]
  },
  {
   "cell_type": "markdown",
   "id": "35185ddd-1fa0-4b1f-a1f6-cc02e00598d0",
   "metadata": {},
   "source": [
    "### Q13) What are the benefits of using Python?\n",
    "### A) 1. Easy to read, learn and write\n",
    "### 2. Extensive support libraries\n",
    "### 3. Presence of third-party modules\n",
    "### 4. Portable across Operating systems"
   ]
  },
  {
   "cell_type": "markdown",
   "id": "d607af12-ab50-4f2f-9913-90153c0bacca",
   "metadata": {},
   "source": [
    "### Q14) How is memory managed in Python?\n",
    "### A) Python has a private heap which stores all python objects and data structures. This private heap is managed by Python memory manager and a programmer doesn't have access to this private heap."
   ]
  },
  {
   "cell_type": "markdown",
   "id": "bda483d9-ad4c-4b11-8aab-054d093cf07d",
   "metadata": {},
   "source": [
    "### Q15) How to install Python on Windows and set path variables?\n",
    "### A) 1. Download the .exe file from python official website.\n",
    "### 2. Run the .exe file.\n",
    "### 3. After succesful installation, search for **Environment Variables** in start menu and open it.\n",
    "### 4. There will be a sectoin called **System variables**, click on edit and add new path there."
   ]
  },
  {
   "cell_type": "markdown",
   "id": "85ced6cc-d823-4e72-86cf-e46d66e3d732",
   "metadata": {},
   "source": [
    "### Q16) Is indentation required in Python?\n",
    "### A) Yes, unless we are writing a code without any blocks or program is a single line."
   ]
  }
 ],
 "metadata": {
  "kernelspec": {
   "display_name": "Python 3 (ipykernel)",
   "language": "python",
   "name": "python3"
  },
  "language_info": {
   "codemirror_mode": {
    "name": "ipython",
    "version": 3
   },
   "file_extension": ".py",
   "mimetype": "text/x-python",
   "name": "python",
   "nbconvert_exporter": "python",
   "pygments_lexer": "ipython3",
   "version": "3.10.8"
  }
 },
 "nbformat": 4,
 "nbformat_minor": 5
}
