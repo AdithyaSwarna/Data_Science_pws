{
 "cells": [
  {
   "cell_type": "markdown",
   "id": "bcf42cc1-6907-4d80-9c58-04f460f2ebca",
   "metadata": {},
   "source": [
    "### Q1"
   ]
  },
  {
   "cell_type": "code",
   "execution_count": 1,
   "id": "19d7a562-4f29-43da-a478-ad6e02419daf",
   "metadata": {},
   "outputs": [],
   "source": [
    "def pwd_check(s):\n",
    "    lower_count,upper_count,number_count,special_count = 0,0,0,0\n",
    "    special_char = \"~!@#$%^&*()_+-=/*. `\"\n",
    "    for i in s:\n",
    "        if i.isupper():\n",
    "            upper_count += 1\n",
    "        if i.islower():\n",
    "            lower_count += 1\n",
    "        if i.isdigit():\n",
    "            number_count += 1\n",
    "        if i in special_char:\n",
    "            special_count += 1\n",
    "    total_sum = upper_count + lower_count + number_count + special_count\n",
    "    if upper_count >= 2 and lower_count >= 2 and number_count >= 1 and special_count >= 3 and len(s) == 10 and  total_sum == len(s):\n",
    "        return \"Valid Password\"\n",
    "    else:\n",
    "        return \"Invalid Password\""
   ]
  },
  {
   "cell_type": "code",
   "execution_count": 2,
   "id": "b8fbaf38-5912-4085-aa8b-19307b9a15e2",
   "metadata": {},
   "outputs": [
    {
     "data": {
      "text/plain": [
       "'Valid Password'"
      ]
     },
     "execution_count": 2,
     "metadata": {},
     "output_type": "execute_result"
    }
   ],
   "source": [
    "pwd_check('AdqweQ@  1')#this password has two spaces."
   ]
  },
  {
   "cell_type": "code",
   "execution_count": 3,
   "id": "86e6179f-e865-4531-85c9-c4b0cc2c716f",
   "metadata": {},
   "outputs": [
    {
     "data": {
      "text/plain": [
       "'Invalid Password'"
      ]
     },
     "execution_count": 3,
     "metadata": {},
     "output_type": "execute_result"
    }
   ],
   "source": [
    "pwd_check('pwd_check()')"
   ]
  },
  {
   "cell_type": "markdown",
   "id": "556914d2-5cc8-43b7-9420-b850e09248c4",
   "metadata": {},
   "source": [
    "### Q2"
   ]
  },
  {
   "cell_type": "markdown",
   "id": "acebf00b-3013-49f2-8783-0cc39b34b59c",
   "metadata": {},
   "source": [
    "#### Check if the string starts with a particular letter."
   ]
  },
  {
   "cell_type": "code",
   "execution_count": 4,
   "id": "e876d897-d0f8-4ed5-bf8b-e95a80c692b4",
   "metadata": {},
   "outputs": [],
   "source": [
    "res = lambda x,y: True if x[0]==y else False"
   ]
  },
  {
   "cell_type": "code",
   "execution_count": 5,
   "id": "dba08c55-a2d2-4e7f-8b9d-cba731ae1276",
   "metadata": {},
   "outputs": [
    {
     "name": "stdout",
     "output_type": "stream",
     "text": [
      "True\n"
     ]
    }
   ],
   "source": [
    "print(res('input string','i'))"
   ]
  },
  {
   "cell_type": "code",
   "execution_count": 6,
   "id": "dc43b9da-c735-4850-af3a-99b3a25b3fb3",
   "metadata": {},
   "outputs": [
    {
     "name": "stdout",
     "output_type": "stream",
     "text": [
      "False\n"
     ]
    }
   ],
   "source": [
    "print(res('input string','a'))"
   ]
  },
  {
   "cell_type": "code",
   "execution_count": 7,
   "id": "c7dad36b-645c-4796-a5a5-57fedf9a648d",
   "metadata": {},
   "outputs": [
    {
     "name": "stdout",
     "output_type": "stream",
     "text": [
      "False\n"
     ]
    }
   ],
   "source": [
    "print(res('input string',1))"
   ]
  },
  {
   "cell_type": "markdown",
   "id": "abf79ad4-7bd1-4ae7-99ee-721c511d372f",
   "metadata": {},
   "source": [
    "#### Check if the string is numeric."
   ]
  },
  {
   "cell_type": "code",
   "execution_count": 8,
   "id": "21f053b9-5e62-4015-ae47-76b28d71aa96",
   "metadata": {},
   "outputs": [],
   "source": [
    "res1 = lambda x: x[1:].replace('.','',1).isdigit() if x[0]=='-' else x.replace('.','',1).isdigit()"
   ]
  },
  {
   "cell_type": "code",
   "execution_count": 9,
   "id": "bd6c1015-22d0-48fb-a67e-cc9bf19e466f",
   "metadata": {},
   "outputs": [
    {
     "name": "stdout",
     "output_type": "stream",
     "text": [
      "True\n"
     ]
    }
   ],
   "source": [
    "print(res1('123'))"
   ]
  },
  {
   "cell_type": "code",
   "execution_count": 10,
   "id": "cd3e9e39-e5ae-4bff-9683-b536cf80c7b4",
   "metadata": {},
   "outputs": [
    {
     "name": "stdout",
     "output_type": "stream",
     "text": [
      "True\n"
     ]
    }
   ],
   "source": [
    "print(res1('123.34'))"
   ]
  },
  {
   "cell_type": "code",
   "execution_count": 11,
   "id": "ec6f16c6-e05f-410d-8dcd-3335d06f593c",
   "metadata": {},
   "outputs": [
    {
     "name": "stdout",
     "output_type": "stream",
     "text": [
      "False\n"
     ]
    }
   ],
   "source": [
    "print(res1('a123'))"
   ]
  },
  {
   "cell_type": "code",
   "execution_count": 12,
   "id": "3418b1df-6493-4e6a-989f-47bb1d3489a1",
   "metadata": {},
   "outputs": [
    {
     "name": "stdout",
     "output_type": "stream",
     "text": [
      "True\n"
     ]
    }
   ],
   "source": [
    "print(res1('-123'))"
   ]
  },
  {
   "cell_type": "code",
   "execution_count": 13,
   "id": "54c70bd6-e02b-42a8-8ab0-6dea5b2f8a8a",
   "metadata": {},
   "outputs": [
    {
     "name": "stdout",
     "output_type": "stream",
     "text": [
      "True\n"
     ]
    }
   ],
   "source": [
    "print(res1('-123.34'))"
   ]
  },
  {
   "cell_type": "code",
   "execution_count": 14,
   "id": "59054c81-553c-4257-beed-8adfce68bcb9",
   "metadata": {},
   "outputs": [
    {
     "name": "stdout",
     "output_type": "stream",
     "text": [
      "False\n"
     ]
    }
   ],
   "source": [
    "print(res1('abc'))"
   ]
  },
  {
   "cell_type": "markdown",
   "id": "b0b14e6c-0a36-4c53-9c91-c2611ed9c228",
   "metadata": {},
   "source": [
    "#### Sort a list of tuples having fruit names and their quantity. [(\"mango\",99),(\"orange\",80), (\"grapes\", 1000)]."
   ]
  },
  {
   "cell_type": "code",
   "execution_count": 15,
   "id": "31806e21-5c35-4c07-b5f3-6b3882a09451",
   "metadata": {},
   "outputs": [
    {
     "data": {
      "text/plain": [
       "[('orange', 80), ('mango', 99), ('grapes', 1000)]"
      ]
     },
     "execution_count": 15,
     "metadata": {},
     "output_type": "execute_result"
    }
   ],
   "source": [
    "l = [(\"mango\",99),(\"orange\",80), (\"grapes\", 1000)]\n",
    "l.sort(key = lambda x:x[1])\n",
    "l"
   ]
  },
  {
   "cell_type": "markdown",
   "id": "3fb1fd39-58eb-449c-8bc9-704efd412f9d",
   "metadata": {},
   "source": [
    "#### Find the squares of numbers from 1 to 10."
   ]
  },
  {
   "cell_type": "code",
   "execution_count": 17,
   "id": "ae2dfc05-a740-4497-a3ef-0139fb360061",
   "metadata": {},
   "outputs": [
    {
     "data": {
      "text/plain": [
       "[1, 4, 9, 16, 25, 36, 49, 64, 81, 100]"
      ]
     },
     "execution_count": 17,
     "metadata": {},
     "output_type": "execute_result"
    }
   ],
   "source": [
    "list(map(lambda x:x**2,list(range(1,11))))"
   ]
  },
  {
   "cell_type": "markdown",
   "id": "d13aeee4-c8f2-4052-b354-8e37addd0e96",
   "metadata": {},
   "source": [
    "### Find the cube root of numbers from 1 to 10."
   ]
  },
  {
   "cell_type": "code",
   "execution_count": 18,
   "id": "6418d3e3-1792-4273-891d-45b7d2468213",
   "metadata": {},
   "outputs": [
    {
     "data": {
      "text/plain": [
       "[1.0,\n",
       " 1.2599210498948732,\n",
       " 1.4422495703074083,\n",
       " 1.5874010519681994,\n",
       " 1.7099759466766968,\n",
       " 1.8171205928321397,\n",
       " 1.912931182772389,\n",
       " 2.0,\n",
       " 2.080083823051904,\n",
       " 2.154434690031884]"
      ]
     },
     "execution_count": 18,
     "metadata": {},
     "output_type": "execute_result"
    }
   ],
   "source": [
    "list(map(lambda x:x**(1/3),list(range(1,11))))"
   ]
  },
  {
   "cell_type": "markdown",
   "id": "0fb474b7-d637-4417-beb0-6381ebcc0409",
   "metadata": {},
   "source": [
    "#### Check if a given number is even"
   ]
  },
  {
   "cell_type": "code",
   "execution_count": 19,
   "id": "f60ffd97-5dbb-4495-95a1-ae0d6d5d803a",
   "metadata": {},
   "outputs": [],
   "source": [
    "res2 = lambda x : x%2 != 0"
   ]
  },
  {
   "cell_type": "code",
   "execution_count": 20,
   "id": "36c53288-c8c2-4523-bebc-30d07320b6aa",
   "metadata": {},
   "outputs": [
    {
     "name": "stdout",
     "output_type": "stream",
     "text": [
      "True\n"
     ]
    }
   ],
   "source": [
    "print(res2(101))"
   ]
  },
  {
   "cell_type": "code",
   "execution_count": 21,
   "id": "777bd092-cbd1-47c1-9809-a165505bd617",
   "metadata": {},
   "outputs": [
    {
     "name": "stdout",
     "output_type": "stream",
     "text": [
      "False\n"
     ]
    }
   ],
   "source": [
    "print(res2(102))"
   ]
  },
  {
   "cell_type": "markdown",
   "id": "ce3e4c12-a7b9-48e0-a8c0-983ffc24faa5",
   "metadata": {},
   "source": [
    "#### Filter odd numbers from the given list. [1,2,3,4,5,6,7,8,9,10]"
   ]
  },
  {
   "cell_type": "code",
   "execution_count": 22,
   "id": "ef32031f-74f3-44b4-9aad-ea9a20afa9e7",
   "metadata": {},
   "outputs": [
    {
     "data": {
      "text/plain": [
       "[1, 3, 5, 7, 9]"
      ]
     },
     "execution_count": 22,
     "metadata": {},
     "output_type": "execute_result"
    }
   ],
   "source": [
    "list(filter(lambda x:x%2!=0,[1,2,3,4,5,6,7,8,9,10]))"
   ]
  },
  {
   "cell_type": "markdown",
   "id": "c00b0831-5818-4d66-adf2-935bbd6e4d01",
   "metadata": {},
   "source": [
    "#### Sort a list of integers into positive and negative integers lists. [1,2,3,4,5,6,-1,-2,-3,-4,-5,0]"
   ]
  },
  {
   "cell_type": "markdown",
   "id": "35c6d0bb-c3ed-40cb-ac3e-56b0669c9a54",
   "metadata": {},
   "source": [
    "#### This question can be solved in two ways\n",
    "#### 1. sing filter twice for positive and negative.\n",
    "#### 2. Defining a function and using lambda to get both positive and negative in one go."
   ]
  },
  {
   "cell_type": "code",
   "execution_count": 23,
   "id": "cffcda75-914e-416a-a004-bc0449311c6e",
   "metadata": {},
   "outputs": [
    {
     "name": "stdout",
     "output_type": "stream",
     "text": [
      "[1, 2, 3, 4, 5, 6]\n",
      "[-1, -2, -3, -4, -5]\n"
     ]
    }
   ],
   "source": [
    "#method 1\n",
    "pos = list(filter(lambda x:x>0,[1,2,3,4,5,6,-1,-2,-3,-4,-5,0]))\n",
    "print(pos)\n",
    "neg = list(filter(lambda x:x<0,[1,2,3,4,5,6,-1,-2,-3,-4,-5,0]))\n",
    "print(neg)"
   ]
  },
  {
   "cell_type": "code",
   "execution_count": 24,
   "id": "775d41ef-44a5-4e17-9dde-e204b96dddd4",
   "metadata": {},
   "outputs": [
    {
     "name": "stdout",
     "output_type": "stream",
     "text": [
      "[1, 2, 3, 4, 5, 6]\n",
      "[-1, -2, -3, -4, -5]\n"
     ]
    }
   ],
   "source": [
    "def pos_neg(pred, iterable):\n",
    "    pos = []\n",
    "    neg = []\n",
    "    for item in iterable:\n",
    "        #print(pred(item),item)\n",
    "        if pred(item) == True:\n",
    "            pos.append(item)\n",
    "        elif pred(item) == 'z':\n",
    "            pass\n",
    "        else:\n",
    "            neg.append(item)\n",
    "    return pos, neg\n",
    "pos1, neg1 = pos_neg(lambda x: True if x > 0 else ('z' if x==0 else False), [1,2,3,4,5,6,-1,-2,-3,-4,-5,0])\n",
    "print(pos1)\n",
    "print(neg1)"
   ]
  },
  {
   "cell_type": "markdown",
   "id": "99336f99-29bd-4e73-b2b7-4d06be126d8b",
   "metadata": {},
   "source": [
    "#### Zero is neither positive nor negative, so didn't place x>= 0 in above conditions. If zero is considered as positive integer then x>=0 condition should be used."
   ]
  }
 ],
 "metadata": {
  "kernelspec": {
   "display_name": "Python 3 (ipykernel)",
   "language": "python",
   "name": "python3"
  },
  "language_info": {
   "codemirror_mode": {
    "name": "ipython",
    "version": 3
   },
   "file_extension": ".py",
   "mimetype": "text/x-python",
   "name": "python",
   "nbconvert_exporter": "python",
   "pygments_lexer": "ipython3",
   "version": "3.10.8"
  }
 },
 "nbformat": 4,
 "nbformat_minor": 5
}
