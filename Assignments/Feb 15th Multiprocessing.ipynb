{
 "cells": [
  {
   "cell_type": "markdown",
   "id": "5fcaae65-c947-4eaa-9a8a-d77ddd442f26",
   "metadata": {},
   "source": [
    "### Q1"
   ]
  },
  {
   "cell_type": "markdown",
   "id": "4cf164e3-b4a6-42cc-ac1b-39cd9aea0d96",
   "metadata": {},
   "source": [
    "### Multiprocessing is a technique to make a program substantially more efficient by running multiple tasks in parallel instead of sequentially.\n",
    "### Consider we have four tasks to do then we will be doing one at a time or will do task1 partiallly and move to task2 and so on till all tasks are complelted. Either of the cases it takes a lot of time. If same 4 tasks are handled by four persons then 4 tasks can be completed parallely if the tasks are not dependent on each other. Same is the case with computers, tasks are processes given to CPU and if CPU is a multicore processor it can run them parallely else it can't.\n",
    "### In python multiprocessing is achieved using multiprocessing module. It provide multiple python interpreters to run different codes parallely."
   ]
  },
  {
   "cell_type": "markdown",
   "id": "a14cb06d-2a0a-4c7f-888a-e7e0c756cfca",
   "metadata": {},
   "source": [
    "### Q2"
   ]
  },
  {
   "cell_type": "markdown",
   "id": "811de266-2547-4340-8b5d-be4b655782e6",
   "metadata": {},
   "source": [
    "|S.No|Multithreading|Multiprocessing|\n",
    "|:---|:-------|:---------|\n",
    "|1.|It is a technique where a process spawns multiple threads simultaneously.|It is the technique where multiple processes run across multiple processors/processor cores simultaneously.|\n",
    "|2.|Implements concurrency.|Implements parallelism in its truest form.|\n",
    "|3.|It gives the illusion that they are running parallelly, but they work in a concurrent manner.|It is parallel in the sense that the multiprocessing module facilitates the running of independent processes parallelly by using subprocesses.|\n",
    "|4.|Global Interpreter Lock(GIL) prevents the threads from running simultaneously.|In multiprocessing, each process has its own Python Interpreter performing the execution.|"
   ]
  },
  {
   "cell_type": "markdown",
   "id": "dbfe8d30-d3fb-412a-aa92-7cbc3fee952a",
   "metadata": {},
   "source": [
    "### Q3"
   ]
  },
  {
   "cell_type": "code",
   "execution_count": 1,
   "id": "182b6bc1-c4b1-4f57-9c64-56083e5f7473",
   "metadata": {},
   "outputs": [
    {
     "name": "stdout",
     "output_type": "stream",
     "text": [
      "Sleeping for 0.5 seconds\n",
      "Sleeping for 0.5 secondsProgram finished in 0.007853528950363398 seconds\n",
      "\n",
      "Finished sleeping\n",
      "Finished sleeping\n"
     ]
    }
   ],
   "source": [
    "import multiprocessing\n",
    "import time\n",
    "\n",
    "def task():\n",
    "    print('Sleeping for 0.5 seconds')\n",
    "    time.sleep(0.5)\n",
    "    print('Finished sleeping')\n",
    "\n",
    "if __name__ == \"__main__\":\n",
    "    start_time = time.perf_counter()\n",
    "\n",
    "    p1 = multiprocessing.Process(target=task)\n",
    "    p2 = multiprocessing.Process(target=task)\n",
    "\n",
    "    p1.start()\n",
    "    p2.start()\n",
    "\n",
    "    finish_time = time.perf_counter()\n",
    "\n",
    "    print(f\"Program finished in {finish_time-start_time} seconds\")"
   ]
  },
  {
   "cell_type": "markdown",
   "id": "e0ebabf6-1ede-4302-9d23-e64fd181372a",
   "metadata": {},
   "source": [
    "### Q4"
   ]
  },
  {
   "cell_type": "markdown",
   "id": "a09d1301-205d-4aeb-8255-cc7009de3b19",
   "metadata": {},
   "source": [
    "### When we wwant to run a process 1000s of times like image processing, if we use simple multiprocessing then OS will be overloaded and gets exhausted of memory. To avoid this we use or define a process pool to limit the number of processes that can be run at a time.\n",
    "### To achieve this we use multiprocessing.Pool(). map(),,get() or current.futures modules/arguments."
   ]
  },
  {
   "cell_type": "markdown",
   "id": "2249e438-29a8-42f6-82cb-e2df42d83c84",
   "metadata": {},
   "source": [
    "### Q5"
   ]
  },
  {
   "cell_type": "markdown",
   "id": "c2f65697-fcd4-4d94-bfe7-be2abce3f9d4",
   "metadata": {},
   "source": [
    "### We can configure the number of worker processes in the multiprocessing.pool.Pool by setting the “processes” argument in the constructor. Processes is the number of worker processes to use. If processes is None then the number returned by os.cpu_count() is used.\n",
    "```python\n",
    "pool = multiprocessing.Pool(processes=4)\n",
    "```"
   ]
  },
  {
   "cell_type": "markdown",
   "id": "b8335c01-8aba-44ce-ab05-8c900d9fe423",
   "metadata": {},
   "source": [
    "### Q6"
   ]
  },
  {
   "cell_type": "code",
   "execution_count": 2,
   "id": "ef94a5c2-caf4-49a8-a972-2bcd9d0cdc87",
   "metadata": {},
   "outputs": [
    {
     "name": "stdout",
     "output_type": "stream",
     "text": [
      "[405, 884, 2805, 596]\n"
     ]
    }
   ],
   "source": [
    "import multiprocessing\n",
    "import random\n",
    "\n",
    "def some_number(x):\n",
    "    return random.randint(1,1000) * x\n",
    "\n",
    "if __name__ == \"__main__\":\n",
    "    pool = multiprocessing.Pool(4)\n",
    "    result = pool.map(some_number, range(1,5))\n",
    "    print(result)"
   ]
  }
 ],
 "metadata": {
  "kernelspec": {
   "display_name": "Python 3 (ipykernel)",
   "language": "python",
   "name": "python3"
  },
  "language_info": {
   "codemirror_mode": {
    "name": "ipython",
    "version": 3
   },
   "file_extension": ".py",
   "mimetype": "text/x-python",
   "name": "python",
   "nbconvert_exporter": "python",
   "pygments_lexer": "ipython3",
   "version": "3.10.8"
  }
 },
 "nbformat": 4,
 "nbformat_minor": 5
}
