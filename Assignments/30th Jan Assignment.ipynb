{
 "cells": [
  {
   "cell_type": "code",
   "execution_count": 6,
   "id": "3445d062-a66e-455f-a447-b35a637e9d30",
   "metadata": {},
   "outputs": [
    {
     "name": "stdin",
     "output_type": "stream",
     "text": [
      "Enter percentage: 91\n"
     ]
    },
    {
     "name": "stdout",
     "output_type": "stream",
     "text": [
      "A\n"
     ]
    }
   ],
   "source": [
    "# Q1\n",
    "percentage = int(input(\"Enter percentage:\"))\n",
    "if percentage > 90:\n",
    "    print('A')\n",
    "elif percentage > 80 and percentage <= 90:\n",
    "    print('B')\n",
    "elif percentage >= 60 and percentage <= 80:\n",
    "    print('C')\n",
    "else:\n",
    "    print('D')"
   ]
  },
  {
   "cell_type": "code",
   "execution_count": 10,
   "id": "75d5e476-b217-47ae-b59c-d9df07cacb70",
   "metadata": {},
   "outputs": [
    {
     "name": "stdin",
     "output_type": "stream",
     "text": [
      "Enter price: 100000\n"
     ]
    },
    {
     "name": "stdout",
     "output_type": "stream",
     "text": [
      "Road Tax: 10000.0\n"
     ]
    }
   ],
   "source": [
    "# Q2\n",
    "price = int(input(\"Enter price:\"))\n",
    "print(\"Road Tax: \",end=\"\")\n",
    "if price > 100000:\n",
    "    print(price*0.15)\n",
    "elif price > 50000 and price <= 100000:\n",
    "    print(price*0.10)\n",
    "else:\n",
    "    print(price*0.05)"
   ]
  },
  {
   "cell_type": "code",
   "execution_count": 14,
   "id": "3b0f77b2-f182-4ff6-a667-d0848b4be8df",
   "metadata": {},
   "outputs": [
    {
     "name": "stdin",
     "output_type": "stream",
     "text": [
      "Enter city: Jaipur\n"
     ]
    },
    {
     "name": "stdout",
     "output_type": "stream",
     "text": [
      "Monument of that city:Jal Mahal\n"
     ]
    }
   ],
   "source": [
    "# Q3\n",
    "city = input(\"Enter city:\")\n",
    "print(\"Monument of that city:\",end=\"\")\n",
    "if city.lower() == \"delhi\":\n",
    "    print(\"Red Fort\")\n",
    "elif city.lower() == \"agra\":\n",
    "    print(\"Taj Mahal\")\n",
    "elif city.lower() == \"jaipur\":\n",
    "    print(\"Jal Mahal\")"
   ]
  },
  {
   "cell_type": "code",
   "execution_count": 16,
   "id": "86c05f45-9b46-4518-9292-0adae82e2cf1",
   "metadata": {},
   "outputs": [
    {
     "name": "stdin",
     "output_type": "stream",
     "text": [
      "Enter a number:  300\n"
     ]
    },
    {
     "name": "stdout",
     "output_type": "stream",
     "text": [
      "4\n"
     ]
    }
   ],
   "source": [
    "# Q4\n",
    "num = int(input(\"Enter a number: \"))\n",
    "count=0\n",
    "while num > 10:\n",
    "    num/=3\n",
    "    count+=1\n",
    "print(count)"
   ]
  },
  {
   "cell_type": "markdown",
   "id": "c279e8c0-5100-417b-8222-b012176fb430",
   "metadata": {},
   "source": [
    "### Q5\n",
    "### Generally while is used when we don't know how many nuber of times(count) to run the loop. For example, in above program I can't use for loop unless I know after how many times the number goes below or equal to 10, hence we use a condition. Untill the condition is true the loop runs."
   ]
  },
  {
   "cell_type": "markdown",
   "id": "f78452bf-e5ed-46f8-84da-81eef3ae7027",
   "metadata": {},
   "source": [
    "### Q6\n",
    "### Below are 3 different patterns using nested while loops"
   ]
  },
  {
   "cell_type": "code",
   "execution_count": 19,
   "id": "2d4f2b02-441b-4c71-b489-6d658a2185e6",
   "metadata": {},
   "outputs": [
    {
     "name": "stdout",
     "output_type": "stream",
     "text": [
      "\n",
      "* \n",
      "* * \n",
      "* * * \n",
      "* * * * \n"
     ]
    }
   ],
   "source": [
    "i = 0\n",
    "while i < 5:\n",
    "    j = 0\n",
    "    while j < i:\n",
    "        print(\"*\",end=\" \")\n",
    "        j+=1\n",
    "    print()\n",
    "    i+=1"
   ]
  },
  {
   "cell_type": "code",
   "execution_count": 20,
   "id": "eb308da5-7c2c-40cc-bad3-c0a5c2a8352f",
   "metadata": {},
   "outputs": [
    {
     "name": "stdout",
     "output_type": "stream",
     "text": [
      "* * * * * \n",
      "* * * * * \n",
      "* * * * * \n",
      "* * * * * \n",
      "* * * * * \n"
     ]
    }
   ],
   "source": [
    "i = 0\n",
    "while i < 5:\n",
    "    j = 0\n",
    "    while j < 5:\n",
    "        print(\"*\",end=\" \")\n",
    "        j+=1\n",
    "    print()\n",
    "    i+=1"
   ]
  },
  {
   "cell_type": "code",
   "execution_count": 21,
   "id": "f6e3412d-12e6-4663-befa-ae5ffcfce63a",
   "metadata": {},
   "outputs": [
    {
     "name": "stdout",
     "output_type": "stream",
     "text": [
      "* * * * * \n",
      "* * * * \n",
      "* * * \n",
      "* * \n",
      "* \n"
     ]
    }
   ],
   "source": [
    "i = 5\n",
    "while i > 0:\n",
    "    j = 0\n",
    "    while j < i:\n",
    "        print(\"*\",end=\" \")\n",
    "        j+=1\n",
    "    print()\n",
    "    i-=1"
   ]
  },
  {
   "cell_type": "markdown",
   "id": "755f030c-2d42-413a-9b8e-f3287e68a61a",
   "metadata": {},
   "source": [
    "### Q7 & Q8"
   ]
  },
  {
   "cell_type": "code",
   "execution_count": 22,
   "id": "1a3dca19-3967-4816-ae2a-ef50ea4bade2",
   "metadata": {},
   "outputs": [
    {
     "name": "stdout",
     "output_type": "stream",
     "text": [
      "10\n",
      "9\n",
      "8\n",
      "7\n",
      "6\n",
      "5\n",
      "4\n",
      "3\n",
      "2\n",
      "1\n"
     ]
    }
   ],
   "source": [
    "i=10\n",
    "while i > 0:\n",
    "    print(i)\n",
    "    i-=1"
   ]
  }
 ],
 "metadata": {
  "kernelspec": {
   "display_name": "Python 3 (ipykernel)",
   "language": "python",
   "name": "python3"
  },
  "language_info": {
   "codemirror_mode": {
    "name": "ipython",
    "version": 3
   },
   "file_extension": ".py",
   "mimetype": "text/x-python",
   "name": "python",
   "nbconvert_exporter": "python",
   "pygments_lexer": "ipython3",
   "version": "3.10.8"
  }
 },
 "nbformat": 4,
 "nbformat_minor": 5
}
