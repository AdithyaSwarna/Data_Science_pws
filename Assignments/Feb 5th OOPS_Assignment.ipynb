{
 "cells": [
  {
   "cell_type": "markdown",
   "id": "a5f3a735-a4b8-4370-a6f0-7596d55eef75",
   "metadata": {},
   "source": [
    "### Q1"
   ]
  },
  {
   "cell_type": "markdown",
   "id": "9680709c-292d-49d9-a9ea-b5c3fb5610f4",
   "metadata": {},
   "source": [
    "### Classes are blueprint/prototype for individual objects, attributes and methods. Objects are instances of a class."
   ]
  },
  {
   "cell_type": "code",
   "execution_count": 3,
   "id": "0702cff9-1edc-411d-998b-35debe7502e9",
   "metadata": {},
   "outputs": [],
   "source": [
    "# Here student is class/prototype, objects which are calling student class will have parameter1, parameter2 and print details method.\n",
    "class student:\n",
    "    def __init__(self,parameter1,parameter2):\n",
    "        self.parameter1 = parameter1\n",
    "        self.parameter2 = parameter2\n",
    "    def print_details(self):\n",
    "        return self.parameter1,self.parameter2"
   ]
  },
  {
   "cell_type": "code",
   "execution_count": 5,
   "id": "2e7ff380-3f01-4e7d-88ab-4d61cf9f43ae",
   "metadata": {},
   "outputs": [
    {
     "data": {
      "text/plain": [
       "(1, 'name1')"
      ]
     },
     "execution_count": 5,
     "metadata": {},
     "output_type": "execute_result"
    }
   ],
   "source": [
    "# s1 and s2 are objects\n",
    "s1 = student(1,'name1')\n",
    "s2 = student(2,'name2')\n",
    "s1.print_details()"
   ]
  },
  {
   "cell_type": "code",
   "execution_count": 6,
   "id": "14415f72-81a6-498c-b869-66878ebda639",
   "metadata": {},
   "outputs": [
    {
     "data": {
      "text/plain": [
       "(2, 'name2')"
      ]
     },
     "execution_count": 6,
     "metadata": {},
     "output_type": "execute_result"
    }
   ],
   "source": [
    "s2.print_details()"
   ]
  },
  {
   "cell_type": "markdown",
   "id": "da7d6695-278e-4b1d-a441-01ac38e969ef",
   "metadata": {},
   "source": [
    "### Q2\n",
    "### Four pillars of OOPS are\n",
    "### 1. Abstraction\n",
    "### 2. Encapsulation\n",
    "### 3. Inheritance\n",
    "### 4. Polymorphism"
   ]
  },
  {
   "cell_type": "markdown",
   "id": "ef4f9724-a532-4403-a077-1f5518e17d3c",
   "metadata": {},
   "source": [
    "### Q3"
   ]
  },
  {
   "cell_type": "markdown",
   "id": "9e064bd6-f80f-44a0-8e38-b68179c982cf",
   "metadata": {},
   "source": [
    "### `__init__()` is special method (functions which start and end with double underscore can be called as special methods) popularly called as constructor. A constructor is a special method that the program calls upon an object’s creation. The constructor is used in the class to initialize data members to the object. Below is example"
   ]
  },
  {
   "cell_type": "code",
   "execution_count": 7,
   "id": "5934c539-afa8-4db6-a85d-33313e0979fa",
   "metadata": {},
   "outputs": [],
   "source": [
    "class book:\n",
    "    def __init__(self,book_id,book_name):\n",
    "        self.book_id = book_id\n",
    "        self.book_name = book_name\n",
    "    def book_details(self):\n",
    "        return self.book_id,self.book_name"
   ]
  },
  {
   "cell_type": "code",
   "execution_count": 8,
   "id": "1aac8a9c-4f2b-4388-89c7-94225fe7b7fa",
   "metadata": {},
   "outputs": [],
   "source": [
    "b1 = book(1,'Book1')\n",
    "b2 = book(2,'Book2')"
   ]
  },
  {
   "cell_type": "code",
   "execution_count": 9,
   "id": "a20dc210-f58d-48eb-8849-d11ce727c723",
   "metadata": {},
   "outputs": [
    {
     "data": {
      "text/plain": [
       "(1, 'Book1')"
      ]
     },
     "execution_count": 9,
     "metadata": {},
     "output_type": "execute_result"
    }
   ],
   "source": [
    "b1.book_details()"
   ]
  },
  {
   "cell_type": "code",
   "execution_count": 11,
   "id": "29e455a4-ea2d-4a9b-8450-c66874316b2b",
   "metadata": {},
   "outputs": [
    {
     "data": {
      "text/plain": [
       "(2, 'Book2')"
      ]
     },
     "execution_count": 11,
     "metadata": {},
     "output_type": "execute_result"
    }
   ],
   "source": [
    "b2.book_details()"
   ]
  },
  {
   "cell_type": "markdown",
   "id": "0d819afa-a1b3-483d-98ca-b388f1d48b12",
   "metadata": {},
   "source": [
    "### Q4"
   ]
  },
  {
   "cell_type": "markdown",
   "id": "cc764a75-d1b0-4d48-80d5-ba07f388e194",
   "metadata": {},
   "source": [
    "### `self` is used as a reference or a variable pointing to instance/object of the class. Self is not a keyword, hence we can use any valid variable name as reference variable."
   ]
  },
  {
   "cell_type": "markdown",
   "id": "7065e14d-9fe8-4828-a75a-3fb90e322ee8",
   "metadata": {},
   "source": [
    "### Q5"
   ]
  },
  {
   "cell_type": "markdown",
   "id": "e26b657a-df7c-41d5-b652-28bdbe252b25",
   "metadata": {},
   "source": [
    "### Inheritance is a process of obtaining properties and characteristics(variables and methods) of another class. When a class inherits from another class, then those classes are said to have an inheritance relationship. The class which is inheriting is called the child/sub/derived class and the class which is getting inherited is called the parent/super/base class. Inheritance is also called as \"is-A\" relationship."
   ]
  },
  {
   "cell_type": "markdown",
   "id": "6add9017-da34-481a-8547-e8c60f5b7603",
   "metadata": {},
   "source": [
    "### There are three main advantages of inheritance:\n",
    "\n",
    "### 1.We can keep common properties in a single place. Thus any changes needs to be made need not be repeated.\n",
    "### 2.Inheritance encourages code reuse thus saving us time.\n",
    "### 3.If we want to add a new type of phone later on, we can simply inherit the Phone class instead of writing it from scratch."
   ]
  },
  {
   "cell_type": "markdown",
   "id": "81dadf57-0ebe-45a3-98e4-d2e007cbb654",
   "metadata": {},
   "source": [
    "### Types of Ingeritance:\n",
    "### 1. Single Level --> Single Parent - Single Child; Example: Product->Mobile\n",
    "### 2. Multi Level --> Parent - Child - GrandChild; Example: Product->Phone->SmartPhone\n",
    "### 3. Hierarchical --> One Parent - Many Children; Example: Product->SmartPhone and FeaturePhone\n",
    "### 4. Multiple --> One Child - Many PArents; Example: Product, Phone-> SmartPhone\n",
    "### In above examples right side are classes and left are children or grandchildren."
   ]
  },
  {
   "cell_type": "code",
   "execution_count": 13,
   "id": "b94ad0de-6640-4fe8-aecd-a5624c5e6724",
   "metadata": {},
   "outputs": [
    {
     "name": "stdout",
     "output_type": "stream",
     "text": [
      "Inside phone constructor\n",
      "Buying a phone\n"
     ]
    }
   ],
   "source": [
    "#Single Inheritance\n",
    "class Phone:\n",
    "    def __init__(self, price, brand, camera):\n",
    "        print (\"Inside phone constructor\")\n",
    "        self.__price = price\n",
    "        self.brand = brand\n",
    "        self.camera = camera\n",
    "\n",
    "    def buy(self):\n",
    "        print (\"Buying a phone\")\n",
    "\n",
    "    def return_phone(self):\n",
    "        print (\"Returning a phone\")\n",
    "\n",
    "class SmartPhone(Phone):\n",
    "    pass\n",
    "\n",
    "SmartPhone(1000,\"Apple\",\"13px\").buy()"
   ]
  },
  {
   "cell_type": "code",
   "execution_count": 14,
   "id": "8c374b3e-f020-469a-952a-a300b3f878fb",
   "metadata": {},
   "outputs": [
    {
     "name": "stdout",
     "output_type": "stream",
     "text": [
      "Inside phone constructor\n",
      "Buying a phone\n",
      "Product customer review\n"
     ]
    }
   ],
   "source": [
    "#Multi Level Inheritance\n",
    "class Product:\n",
    "    def review(self):\n",
    "        print (\"Product customer review\")\n",
    "\n",
    "class Phone(Product):\n",
    "    def __init__(self, price, brand, camera):\n",
    "        print (\"Inside phone constructor\")\n",
    "        self.__price = price\n",
    "        self.brand = brand\n",
    "        self.camera = camera\n",
    "\n",
    "    def buy(self):\n",
    "        print (\"Buying a phone\")\n",
    "\n",
    "    def return_phone(self):\n",
    "        print (\"Returning a phone\")\n",
    "\n",
    "class SmartPhone(Phone):\n",
    "    pass\n",
    "\n",
    "s=SmartPhone(20000, \"Apple\", 12)\n",
    "\n",
    "s.buy()\n",
    "s.review()"
   ]
  },
  {
   "cell_type": "code",
   "execution_count": 15,
   "id": "163c6e82-7de0-45a4-8f01-4c5eb548ec6b",
   "metadata": {},
   "outputs": [
    {
     "name": "stdout",
     "output_type": "stream",
     "text": [
      "Inside phone constructor\n",
      "Buying a phone\n"
     ]
    }
   ],
   "source": [
    "#Hierarchical Inheritance\n",
    "class Phone:\n",
    "    def __init__(self, price, brand, camera):\n",
    "        print (\"Inside phone constructor\")\n",
    "        self.__price = price\n",
    "        self.brand = brand\n",
    "        self.camera = camera\n",
    "\n",
    "    def buy(self):\n",
    "        print (\"Buying a phone\")\n",
    "\n",
    "    def return_phone(self):\n",
    "        print (\"Returning a phone\")\n",
    "\n",
    "class SmartPhone(Phone):\n",
    "    pass\n",
    "\n",
    "class FeaturePhone(Phone):\n",
    "    pass\n",
    "\n",
    "SmartPhone(1000,\"Apple\",\"13px\").buy()"
   ]
  },
  {
   "cell_type": "code",
   "execution_count": null,
   "id": "903741d4-856a-49f3-ab31-b6ec2d080f07",
   "metadata": {},
   "outputs": [],
   "source": [
    "#Multiple Inheritance\n",
    "class Phone:\n",
    "    def __init__(self, price, brand, camera):\n",
    "        print (\"Inside phone constructor\")\n",
    "        self.__price = price\n",
    "        self.brand = brand\n",
    "        self.camera = camera\n",
    "\n",
    "    def buy(self):\n",
    "        print (\"Buying a phone\")\n",
    "\n",
    "    def return_phone(self):\n",
    "        print (\"Returning a phone\")\n",
    "\n",
    "class Product:\n",
    "    def review(self):\n",
    "        print (\"Customer review\")\n",
    "\n",
    "class SmartPhone(Phone, Product):\n",
    "    pass\n",
    "\n",
    "s=SmartPhone(20000, \"Apple\", 12)\n",
    "\n",
    "s.buy()\n",
    "s.review()"
   ]
  }
 ],
 "metadata": {
  "kernelspec": {
   "display_name": "Python 3 (ipykernel)",
   "language": "python",
   "name": "python3"
  },
  "language_info": {
   "codemirror_mode": {
    "name": "ipython",
    "version": 3
   },
   "file_extension": ".py",
   "mimetype": "text/x-python",
   "name": "python",
   "nbconvert_exporter": "python",
   "pygments_lexer": "ipython3",
   "version": "3.10.8"
  }
 },
 "nbformat": 4,
 "nbformat_minor": 5
}
