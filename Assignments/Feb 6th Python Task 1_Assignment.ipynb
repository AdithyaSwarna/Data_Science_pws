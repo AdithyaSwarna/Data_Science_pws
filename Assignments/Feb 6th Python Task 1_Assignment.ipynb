{
 "cells": [
  {
   "cell_type": "markdown",
   "id": "70caf77c-253a-4905-beaa-bf38f99594a7",
   "metadata": {},
   "source": [
    "### Q1"
   ]
  },
  {
   "cell_type": "code",
   "execution_count": 1,
   "id": "c0322a59-1ece-403d-9e0f-fe7bbf859207",
   "metadata": {},
   "outputs": [],
   "source": [
    "list1 = [1,2,3,4, [44,55,66, True], False, (34,56,78,89,34), {1,2,3,3,2,1}, {1:34, \"key2\": [55, 67, 78, 89], 4: (45,\n",
    "22, 61, 34)}, [56, 'data science'], 'Machine Learning']\n",
    "def func(a,n=[]):\n",
    "    for i in a:\n",
    "        if type(i)==int or type(i) == float:\n",
    "            n.append(i)\n",
    "        else:\n",
    "            if type(i)==list or type(i)==tuple or type(i)==set:\n",
    "                func(i,n)\n",
    "            elif type(i)==dict:\n",
    "                func(i.items(),n)\n",
    "    return n\n",
    "x = func(list1)"
   ]
  },
  {
   "cell_type": "code",
   "execution_count": 3,
   "id": "86331ef8-ee5f-4caf-acd0-a654a93bbaa3",
   "metadata": {},
   "outputs": [
    {
     "name": "stdout",
     "output_type": "stream",
     "text": [
      "[1, 2, 3, 4, 44, 55, 66, 34, 56, 78, 89, 34, 1, 2, 3, 1, 34, 55, 67, 78, 89, 4, 45, 22, 61, 34, 56]\n"
     ]
    }
   ],
   "source": [
    "print(x)"
   ]
  },
  {
   "cell_type": "code",
   "execution_count": 2,
   "id": "c4ce953d-350f-4b01-bf65-a403c62a339d",
   "metadata": {},
   "outputs": [
    {
     "data": {
      "text/plain": [
       "4134711838987085478833841242112000"
      ]
     },
     "execution_count": 2,
     "metadata": {},
     "output_type": "execute_result"
    }
   ],
   "source": [
    "import math\n",
    "math.prod(x)"
   ]
  },
  {
   "cell_type": "markdown",
   "id": "24536d57-a2d4-4aba-bcfc-20c851922cdf",
   "metadata": {},
   "source": [
    "### Q2"
   ]
  },
  {
   "cell_type": "code",
   "execution_count": 4,
   "id": "c983df73-ea06-4143-95ff-71ce8875ceca",
   "metadata": {},
   "outputs": [],
   "source": [
    "x = list('abcdefghijklmnopqrstuvwxyz')\n",
    "y = x[::-1]"
   ]
  },
  {
   "cell_type": "code",
   "execution_count": 5,
   "id": "33745576-5e8f-47c6-94cb-ec42e9b1d4f8",
   "metadata": {},
   "outputs": [],
   "source": [
    "d={}\n",
    "for i,j in zip(x,y):\n",
    "    d[i]=j"
   ]
  },
  {
   "cell_type": "code",
   "execution_count": 6,
   "id": "e086dc72-b319-42e8-8ba1-a6c0c0c5c394",
   "metadata": {},
   "outputs": [
    {
     "name": "stdout",
     "output_type": "stream",
     "text": [
      "{'a': 'z', 'b': 'y', 'c': 'x', 'd': 'w', 'e': 'v', 'f': 'u', 'g': 't', 'h': 's', 'i': 'r', 'j': 'q', 'k': 'p', 'l': 'o', 'm': 'n', 'n': 'm', 'o': 'l', 'p': 'k', 'q': 'j', 'r': 'i', 's': 'h', 't': 'g', 'u': 'f', 'v': 'e', 'w': 'd', 'x': 'c', 'y': 'b', 'z': 'a'}\n"
     ]
    }
   ],
   "source": [
    "print(d)"
   ]
  },
  {
   "cell_type": "code",
   "execution_count": 7,
   "id": "d79eaad8-973a-41f2-bdb5-093c5f491fb9",
   "metadata": {},
   "outputs": [],
   "source": [
    "d[\" \"]=\"$\""
   ]
  },
  {
   "cell_type": "code",
   "execution_count": 8,
   "id": "aecc1be6-68dd-4c72-a021-64455e4c60f0",
   "metadata": {},
   "outputs": [
    {
     "name": "stdout",
     "output_type": "stream",
     "text": [
      "{'a': 'z', 'b': 'y', 'c': 'x', 'd': 'w', 'e': 'v', 'f': 'u', 'g': 't', 'h': 's', 'i': 'r', 'j': 'q', 'k': 'p', 'l': 'o', 'm': 'n', 'n': 'm', 'o': 'l', 'p': 'k', 'q': 'j', 'r': 'i', 's': 'h', 't': 'g', 'u': 'f', 'v': 'e', 'w': 'd', 'x': 'c', 'y': 'b', 'z': 'a', ' ': '$'}\n"
     ]
    }
   ],
   "source": [
    "print(d)"
   ]
  },
  {
   "cell_type": "code",
   "execution_count": 10,
   "id": "c2dffc12-6353-4aa4-80e0-96fde9478354",
   "metadata": {},
   "outputs": [],
   "source": [
    "t = \"I want to become a Data Scientist.\"\n",
    "t = t.lower()\n",
    "res=\"\"\n",
    "for i in t:\n",
    "    if i in d.keys():\n",
    "        res+=d[i]\n",
    "    else:\n",
    "        res+=i"
   ]
  },
  {
   "cell_type": "code",
   "execution_count": 11,
   "id": "2fae10c0-b217-4aa9-9b22-808d87378e00",
   "metadata": {},
   "outputs": [
    {
     "name": "stdout",
     "output_type": "stream",
     "text": [
      "r$dzmg$gl$yvxlnv$z$wzgz$hxrvmgrhg.\n"
     ]
    }
   ],
   "source": [
    "print(res)"
   ]
  },
  {
   "cell_type": "code",
   "execution_count": 13,
   "id": "56699924-9968-4bae-bbe8-3f822f6a8d07",
   "metadata": {},
   "outputs": [],
   "source": [
    "def encrypt(t):\n",
    "    x = list('abcdefghijklmnopqrstuvwxyz')\n",
    "    y = x[::-1]\n",
    "    d={}\n",
    "    for i,j in zip(x,y):\n",
    "        d[i]=j\n",
    "    d[\" \"]=\"$\"\n",
    "    t = t.lower()\n",
    "    res=\"\"\n",
    "    for i in t:\n",
    "        if i in d.keys():\n",
    "            res+=d[i]\n",
    "        else:\n",
    "            res+=i\n",
    "    return res"
   ]
  },
  {
   "cell_type": "code",
   "execution_count": 14,
   "id": "0b7b2763-4653-4b99-811b-0584062aad3c",
   "metadata": {},
   "outputs": [
    {
     "name": "stdout",
     "output_type": "stream",
     "text": [
      "r$dzmg$gl$yvxlnv$z$wzgz$hxrvmgrhg.\n"
     ]
    }
   ],
   "source": [
    "print(encrypt(\"I want to become a Data Scientist.\"))"
   ]
  },
  {
   "cell_type": "markdown",
   "id": "127f4966-e8d5-4082-a76a-27ef33655286",
   "metadata": {},
   "source": [
    "### Above is same functionality in two ways, one as a script other one as a function."
   ]
  }
 ],
 "metadata": {
  "kernelspec": {
   "display_name": "Python 3 (ipykernel)",
   "language": "python",
   "name": "python3"
  },
  "language_info": {
   "codemirror_mode": {
    "name": "ipython",
    "version": 3
   },
   "file_extension": ".py",
   "mimetype": "text/x-python",
   "name": "python",
   "nbconvert_exporter": "python",
   "pygments_lexer": "ipython3",
   "version": "3.10.8"
  }
 },
 "nbformat": 4,
 "nbformat_minor": 5
}
