{
 "cells": [
  {
   "cell_type": "markdown",
   "id": "ecbdfdef-34dd-4aaa-a4f5-c3c11af39e10",
   "metadata": {},
   "source": [
    "### Q1"
   ]
  },
  {
   "cell_type": "markdown",
   "id": "80290878-f1f9-4a9a-8e74-0370f373f5f3",
   "metadata": {},
   "source": [
    "### `open(filename.extension path of file if not in current directory,mode-default rt)` is the function used to open a file. There are other parameters like buffering which can be passed.\n",
    "### Different modes are r,w,a,x,b,t,+.\n",
    "### 'r' is for reading a file this is default option. If provided file doesn't exists then it raises an error.\n",
    "### 'w' is for writing. If provided file doesn't exist then a new file is created, if file already exists then it will be overwritten.\n",
    "### 'a' is for appending. Same like 'w' but doesn't overwrite, adds data at end.\n",
    "### 'x' is for creating a new file and writing. Raises error if file already exists.\n",
    "### 'b' is for binary\n",
    "### 't' is for text\n",
    "### 'b' and 't' are used in combination with others. Default is 'rt' mode.\n",
    "### '+' opens a disk file for reading and writing"
   ]
  },
  {
   "cell_type": "markdown",
   "id": "ea9f158e-a06b-4a78-9c15-61576150670c",
   "metadata": {},
   "source": [
    "### Q2"
   ]
  },
  {
   "cell_type": "markdown",
   "id": "e08f3d3f-da1e-4ed1-95a9-f295951ed388",
   "metadata": {},
   "source": [
    "### `close()` is used to close an open file and also to flush the IO stream. Using close on already closed file doesn't raise any error.\n",
    "### Below are the points why we use `close()`\n",
    "### 1. When a file is opened we are alloting some amount of resources to the file. So to save resources or to avoid unnecessary use of resources.\n",
    "### 2. In some cases, due to buffering, changes made to a file may not show until we close the file.\n",
    "### 3. Operating Systems limit the number of openings of files, this number might be in millions. So it is better to close files not in use."
   ]
  },
  {
   "cell_type": "markdown",
   "id": "4ee54274-3494-47bd-b38d-c882c20798cb",
   "metadata": {},
   "source": [
    "### Q3"
   ]
  },
  {
   "cell_type": "code",
   "execution_count": 1,
   "id": "1fd672a6-ed54-4fbd-ba39-40f11feca6db",
   "metadata": {},
   "outputs": [
    {
     "name": "stdout",
     "output_type": "stream",
     "text": [
      "I want to become a Data Scientist.\n"
     ]
    }
   ],
   "source": [
    "f = open(\"Q3.txt\",\"w\")\n",
    "f.write(\"I want to become a Data Scientist.\")\n",
    "f.close()\n",
    "f1 = open(\"Q3.txt\",\"r\")\n",
    "print(f1.read())\n",
    "f1.close()"
   ]
  },
  {
   "cell_type": "markdown",
   "id": "a57732ec-06e5-4381-b3c9-a7443014e2bd",
   "metadata": {},
   "source": [
    "### Q4"
   ]
  },
  {
   "cell_type": "code",
   "execution_count": 2,
   "id": "c15731dc-0edf-45e9-93b8-92c36a53a107",
   "metadata": {},
   "outputs": [],
   "source": [
    "f = open(\"Q4.txt\",\"w\")\n",
    "for i in range(10):\n",
    "    f.write(f\"I want to become a Data Scientist.--{i} \\n\")"
   ]
  },
  {
   "cell_type": "code",
   "execution_count": 3,
   "id": "818658a6-6297-4088-9fa0-b3f382a1b366",
   "metadata": {},
   "outputs": [],
   "source": [
    "f.close()\n",
    "f = open(\"Q4.txt\",\"r\")"
   ]
  },
  {
   "cell_type": "code",
   "execution_count": 4,
   "id": "ea9d12f5-c84e-46f4-8f3b-b13f51b8ed90",
   "metadata": {},
   "outputs": [
    {
     "data": {
      "text/plain": [
       "'I want to become a Data Scientist.--0 \\nI want to become a Data Scientist.--1 \\nI want to become a Data Scientist.--2 \\nI want to become a Data Scientist.--3 \\nI want to become a Data Scientist.--4 \\nI want to become a Data Scientist.--5 \\nI want to become a Data Scientist.--6 \\nI want to become a Data Scientist.--7 \\nI want to become a Data Scientist.--8 \\nI want to become a Data Scientist.--9 \\n'"
      ]
     },
     "execution_count": 4,
     "metadata": {},
     "output_type": "execute_result"
    }
   ],
   "source": [
    "f.read()"
   ]
  },
  {
   "cell_type": "code",
   "execution_count": 5,
   "id": "25c5443b-9179-4724-a503-b98de6dc66e3",
   "metadata": {},
   "outputs": [
    {
     "data": {
      "text/plain": [
       "''"
      ]
     },
     "execution_count": 5,
     "metadata": {},
     "output_type": "execute_result"
    }
   ],
   "source": [
    "f.readline()"
   ]
  },
  {
   "cell_type": "code",
   "execution_count": 6,
   "id": "436b2a28-ae76-419a-83e0-1bef559de32a",
   "metadata": {},
   "outputs": [
    {
     "data": {
      "text/plain": [
       "'I want to become a Data Scientist.--0 \\n'"
      ]
     },
     "execution_count": 6,
     "metadata": {},
     "output_type": "execute_result"
    }
   ],
   "source": [
    "f.seek(0)\n",
    "f.readline()"
   ]
  },
  {
   "cell_type": "code",
   "execution_count": 7,
   "id": "3bfb92e2-9dad-4669-8e6e-50a9a5ead04d",
   "metadata": {},
   "outputs": [],
   "source": [
    "f.readlines()\n",
    "f.close()"
   ]
  },
  {
   "cell_type": "markdown",
   "id": "493975aa-dad0-41c9-bd49-aeb14394fdb1",
   "metadata": {},
   "source": [
    "#### In above code we can see that Q4.txt file is created with ten lines of data. When `f.read()` is used it reads all data in file. When `f.readline()` is used it reads one line from the cursor position. When `f.readlines()` is used it reads all lines from cursor point till end and returns these in a list.\n",
    "#### `f.seek(0)` is used to reset cursor position to zero. If not done we can see `f.readline()` call return `''` when called immediately after `f.read()` and `f.readlines()`  also returned from line 2 since `f.readline()` has returned first line and then cursor moved to second line."
   ]
  },
  {
   "cell_type": "markdown",
   "id": "040bb53f-dba0-4d30-a4de-285b83ce033e",
   "metadata": {},
   "source": [
    "### Q5"
   ]
  },
  {
   "cell_type": "markdown",
   "id": "c7f1f718-32cf-4d52-a925-c5520911d075",
   "metadata": {},
   "source": [
    "### When we use only `open()` function for files then we explicitly need to mention to close the file using `close()` function. Whereas when we use with open() statement file will be closed once the with block is completed. This is because with statement calls 2 built-in methods behind the scene – `__enter()__` and `__exit()__`.\n",
    "```Python\n",
    "with open(\"hello.txt\") as my_file:\n",
    "    print(my_file.read())\n",
    "```"
   ]
  },
  {
   "cell_type": "markdown",
   "id": "2c8525da-e9fb-4a10-a5c8-e592ade150a2",
   "metadata": {},
   "source": [
    "### Q6"
   ]
  },
  {
   "cell_type": "markdown",
   "id": "47e886ea-6c13-46e1-9a03-018492f0d05c",
   "metadata": {},
   "source": [
    "### `write()` function is used to write statemnts into file without any extra characters, its parameter is a string, whereas `writelines()` function will write the list of strings given into file."
   ]
  },
  {
   "cell_type": "code",
   "execution_count": 8,
   "id": "85fd1b43-b548-4f6f-8643-b6be5fb148de",
   "metadata": {},
   "outputs": [
    {
     "name": "stdout",
     "output_type": "stream",
     "text": [
      "First Statement\n",
      "\n",
      "Second Statement\n",
      "\n",
      "Third Statement\n",
      "\n",
      "Fourth Statement\n",
      "\n"
     ]
    }
   ],
   "source": [
    "f = open(\"Q5.txt\",\"w\")\n",
    "f.write(\"First Statement\\n\")\n",
    "f.writelines([\"Second Statement\\n\",\"Third Statement\\n\",\"Fourth Statement\\n\"])\n",
    "\n",
    "f.close()\n",
    "\n",
    "f = open(\"Q5.txt\",\"r\")\n",
    "for i in f.readlines():\n",
    "    print(i)"
   ]
  },
  {
   "cell_type": "markdown",
   "id": "125f7d08-97e3-47fa-81ca-472a745e945d",
   "metadata": {},
   "source": [
    "### In above example we can see `write()` function takes one string and writes into file and `writelines()` function takes a list and writes each item of list into the file."
   ]
  }
 ],
 "metadata": {
  "kernelspec": {
   "display_name": "Python 3 (ipykernel)",
   "language": "python",
   "name": "python3"
  },
  "language_info": {
   "codemirror_mode": {
    "name": "ipython",
    "version": 3
   },
   "file_extension": ".py",
   "mimetype": "text/x-python",
   "name": "python",
   "nbconvert_exporter": "python",
   "pygments_lexer": "ipython3",
   "version": "3.10.8"
  }
 },
 "nbformat": 4,
 "nbformat_minor": 5
}
