{
 "cells": [
  {
   "cell_type": "markdown",
   "id": "2f9b460e-d6ac-4525-98d4-639648d4deee",
   "metadata": {},
   "source": [
    "### Q1"
   ]
  },
  {
   "cell_type": "markdown",
   "id": "ec1e6b3e-3f38-4258-ab3a-1ca8bd07f32a",
   "metadata": {},
   "source": [
    "### Multithreading is a technique to run multiple threads concurrently by rapidly switching between threads with a CPU help (called context switching). A thread is a small unit of execution within a process. A process can contain one or more threads.\n",
    "### Multithreading is majorly used to increase performance and speed of the code/program. This is achieved by running threads concurrently and sharing memory space with threads which helps in communication between threads easier.\n",
    "### The threading module is used to handle threads.\n",
    "````python\n",
    "import threading\n",
    "````"
   ]
  },
  {
   "cell_type": "markdown",
   "id": "0b640ed4-dc55-491a-a80c-6552d3d44e57",
   "metadata": {},
   "source": [
    "### Q2"
   ]
  },
  {
   "cell_type": "markdown",
   "id": "28cc035f-02cc-4ef4-8983-e5fe608dff8f",
   "metadata": {},
   "source": [
    "### The threading module is used to achieve multithreading. There are other ways to achieve multithreading like thread module, but threading module has more support for threads than thread module.\n",
    "### 1.activeCount() − Returns the number of thread objects that are active.\n",
    "### 2.currentThread() − Returns the number of thread objects in the caller's thread control.\n",
    "### 3.enumerate() − Returns a list of all thread objects that are currently active."
   ]
  },
  {
   "cell_type": "markdown",
   "id": "e9030911-f363-4745-a333-69355aa2572e",
   "metadata": {},
   "source": [
    "### Q3"
   ]
  },
  {
   "cell_type": "markdown",
   "id": "82e50dd3-ae7f-4c23-9c88-820dbda968c3",
   "metadata": {},
   "source": [
    "### run() method is the entry point for a thread.\n",
    "### start() method starts a thread by calling the run method.\n",
    "### join() waits for threads to terminate.\n",
    "### isAlive() method checks whether a thread is still executing."
   ]
  },
  {
   "cell_type": "markdown",
   "id": "c2ad8f39-407e-430c-9ff6-7dc5c8063cc3",
   "metadata": {},
   "source": [
    "### Q4"
   ]
  },
  {
   "cell_type": "code",
   "execution_count": 1,
   "id": "e04eec81-b454-4aea-a7cf-1e1bd3acb803",
   "metadata": {},
   "outputs": [
    {
     "name": "stdin",
     "output_type": "stream",
     "text": [
      "Enter a list of integers for square and cube:  10 20 30 40 50\n"
     ]
    },
    {
     "name": "stdout",
     "output_type": "stream",
     "text": [
      "In square function: square of 10 is 100\n",
      "In cube function: cube of 10 is 1000\n",
      "In square function: square of 20 is 400\n",
      "In cube function: cube of 20 is 8000\n",
      "In square function: square of 30 is 900\n",
      "In cube function: cube of 30 is 27000\n",
      "In square function: square of 40 is 1600\n",
      "In cube function: cube of 40 is 64000\n",
      "In square function: square of 50 is 2500\n",
      "In cube function: cube of 50 is 125000\n",
      "Square List:  [100, 400, 900, 1600, 2500]\n",
      "Cube List:  [1000, 8000, 27000, 64000, 125000]\n"
     ]
    }
   ],
   "source": [
    "square_l = []\n",
    "def square_func(num):\n",
    "    print(f\"In square function: square of {num} is {num**2}\".format(num,num))\n",
    "    square_l.append(num**2)\n",
    "\n",
    "cube_l = []\n",
    "def cube_func(num):\n",
    "    print(f\"In cube function: cube of {num} is {num**3}\".format(num,num))\n",
    "    cube_l.append(num**3)\n",
    "    \n",
    "import threading\n",
    "\n",
    "l = list(map(int, input(\"Enter a list of integers for square and cube: \").split(\" \")))\n",
    "thread1 = [threading.Thread(target=square_func,args=(i,)) for i in l]\n",
    "thread2 = [threading.Thread(target=cube_func,args=(i,)) for i in l]\n",
    "\n",
    "for i in range(len(l)):\n",
    "    thread1[i].start()\n",
    "    thread2[i].start()\n",
    "    \n",
    "print(\"Square List: \",square_l)\n",
    "print(\"Cube List: \", cube_l)"
   ]
  },
  {
   "cell_type": "markdown",
   "id": "eed7a016-7b3f-4212-a490-99c90529a1a8",
   "metadata": {},
   "source": [
    "### Q5"
   ]
  },
  {
   "cell_type": "markdown",
   "id": "07378658-d803-4373-b271-b2a3fd7b4eef",
   "metadata": {},
   "source": [
    "### Advantages of Multithreading.\n",
    "1. Enables efficient utilization of the resources as the threads share the data space and memory.\n",
    "2. Allows the concurrent and parallel occurrence of various tasks.\n",
    "3. It causes a reduction in time consumption or response time, thereby increasing the performance.\n",
    "### Disadvantages of Multithreading.\n",
    "1. Python uses GIL. Global interpreter lock (GIL) is a mechanism used in computer language interpreters to synchronize the execution of threads so that only one native thread can execute at a time. It makes program run in concurrency and few times parallely. Concurrency is when two or more tasks can start, run, and complete in overlapping time periods. It doesn’t necessarily mean they’ll ever both be running at the same instant. GIL does is make sure only one thread is executing Python code at a time; control still switches between threads. Hence, It prevents multithreaded Python programs from taking full advantage of multiprocessor systems in certain situations.\n",
    "2. Difficulty of debugging.\n",
    "3. Difficulty of testing.\n",
    "4. Increased potential for deadlock occurrence"
   ]
  },
  {
   "cell_type": "markdown",
   "id": "847f0723-bedd-4987-a210-c7b823d8253f",
   "metadata": {},
   "source": [
    "### Q6"
   ]
  },
  {
   "cell_type": "markdown",
   "id": "297c49ee-71a5-4ff4-9024-658bf51762e7",
   "metadata": {},
   "source": [
    "### Deadlock is when two threads are each waiting on the other to release a resource before they can continue. This can lead to a situation where both threads are effectively blocked indefinitely.\n",
    "### Race Conditions are one of the primary issues while working with multithreading in Python. Most commonly, race conditions happen when two or more threads access the shared piece of data and resource. In real-time it can occur when threads overlap. The solution to this is synchronizing threads."
   ]
  }
 ],
 "metadata": {
  "kernelspec": {
   "display_name": "Python 3 (ipykernel)",
   "language": "python",
   "name": "python3"
  },
  "language_info": {
   "codemirror_mode": {
    "name": "ipython",
    "version": 3
   },
   "file_extension": ".py",
   "mimetype": "text/x-python",
   "name": "python",
   "nbconvert_exporter": "python",
   "pygments_lexer": "ipython3",
   "version": "3.10.8"
  }
 },
 "nbformat": 4,
 "nbformat_minor": 5
}
