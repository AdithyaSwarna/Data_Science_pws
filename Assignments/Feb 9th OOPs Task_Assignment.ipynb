{
 "cells": [
  {
   "cell_type": "markdown",
   "id": "bc3479b8-8bcc-44e4-b51b-391a1fabe117",
   "metadata": {},
   "source": [
    "### Q1"
   ]
  },
  {
   "cell_type": "code",
   "execution_count": 1,
   "id": "7639d8c6-9e73-4158-b504-ff9f915a532a",
   "metadata": {},
   "outputs": [],
   "source": [
    "class vehicle:\n",
    "    def __init__(self,name_of_vehicle,max_speed,average_of_vehicle):\n",
    "        self.name_of_vehicle = name_of_vehicle\n",
    "        self.max_speed = max_speed\n",
    "        self.average_of_vehicle = average_of_vehicle"
   ]
  },
  {
   "cell_type": "markdown",
   "id": "1609e615-54af-4478-be18-8664204bcf17",
   "metadata": {},
   "source": [
    "### Q2"
   ]
  },
  {
   "cell_type": "code",
   "execution_count": 6,
   "id": "0d2944f9-7664-454f-9863-be76d433972b",
   "metadata": {},
   "outputs": [],
   "source": [
    "class car(vehicle):\n",
    "    def seating_capacity(self,capacity):\n",
    "        self.capacity = capacity\n",
    "        return self.name_of_vehicle,self.capacity"
   ]
  },
  {
   "cell_type": "code",
   "execution_count": 7,
   "id": "6b6f1ba7-1583-43b4-9ebf-4d8aca9b7b97",
   "metadata": {},
   "outputs": [],
   "source": [
    "car_obj = car('a',60,30)"
   ]
  },
  {
   "cell_type": "code",
   "execution_count": 8,
   "id": "2f446ff2-81d8-4123-ac46-cfd707bb0eca",
   "metadata": {},
   "outputs": [
    {
     "data": {
      "text/plain": [
       "('a', 4)"
      ]
     },
     "execution_count": 8,
     "metadata": {},
     "output_type": "execute_result"
    }
   ],
   "source": [
    "car_obj.seating_capacity(4)"
   ]
  },
  {
   "cell_type": "markdown",
   "id": "175ac3eb-202f-4f77-9d8f-38a89b1e959b",
   "metadata": {},
   "source": [
    "### Q3"
   ]
  },
  {
   "cell_type": "markdown",
   "id": "7c9a5b62-9158-489d-9ce1-a5e6c5b86bf3",
   "metadata": {},
   "source": [
    "### Multiple inheritance is a type of inheritance where there are many parents one children. Below is an example."
   ]
  },
  {
   "cell_type": "code",
   "execution_count": 9,
   "id": "f12590f8-597f-465e-8b87-c5e2b977ea89",
   "metadata": {},
   "outputs": [
    {
     "name": "stdout",
     "output_type": "stream",
     "text": [
      "Inside phone constructor\n",
      "Buying a phone\n",
      "Customer review\n"
     ]
    }
   ],
   "source": [
    "class Phone:\n",
    "    def __init__(self, price, brand, camera):\n",
    "        print (\"Inside phone constructor\")\n",
    "        self.__price = price\n",
    "        self.brand = brand\n",
    "        self.camera = camera\n",
    "\n",
    "    def buy(self):\n",
    "        print (\"Buying a phone\")\n",
    "\n",
    "    def return_phone(self):\n",
    "        print (\"Returning a phone\")\n",
    "\n",
    "class Product:\n",
    "    def review(self):\n",
    "        print (\"Customer review\")\n",
    "\n",
    "class SmartPhone(Phone, Product):\n",
    "    pass\n",
    "\n",
    "s=SmartPhone(20000, \"Apple\", 12)\n",
    "\n",
    "s.buy()\n",
    "s.review()"
   ]
  },
  {
   "cell_type": "markdown",
   "id": "6c0878ef-50a1-49b5-bea7-b8bf7218dd6e",
   "metadata": {},
   "source": [
    "### In above example Phone and Product are Parent classes, SmartPhone is the child/base class. Here child class has no methods but it can access both the parents parents methods."
   ]
  },
  {
   "cell_type": "markdown",
   "id": "e938712b-f094-4e58-a32a-e6f85af6ee68",
   "metadata": {},
   "source": [
    "### Q4"
   ]
  },
  {
   "cell_type": "markdown",
   "id": "1456781b-d23e-4e68-82c2-d7af30c39053",
   "metadata": {},
   "source": [
    "### Getter and Setter methods are created to acces the private variables in a class\n",
    "### Getter is the method to access/get a private variable.\n",
    "### Setter is the method to update/set a private variable."
   ]
  },
  {
   "cell_type": "code",
   "execution_count": 10,
   "id": "a75fa3df-ac5d-4813-8398-985d1de972a1",
   "metadata": {},
   "outputs": [],
   "source": [
    "class A:\n",
    "\n",
    "    def __init__(self, a):\n",
    "        self.__a = a\n",
    "\n",
    "    def get_a(self):\n",
    "        return self.__a\n",
    "\n",
    "    def set_a(self, a):\n",
    "        self.__a = a"
   ]
  },
  {
   "cell_type": "code",
   "execution_count": 12,
   "id": "4f9bf2e8-158b-4bcb-9420-147dab5f5130",
   "metadata": {},
   "outputs": [],
   "source": [
    "obj_A = A(5)"
   ]
  },
  {
   "cell_type": "code",
   "execution_count": 13,
   "id": "cf3c2f01-84b2-4c15-b507-1b590f75b535",
   "metadata": {},
   "outputs": [
    {
     "data": {
      "text/plain": [
       "5"
      ]
     },
     "execution_count": 13,
     "metadata": {},
     "output_type": "execute_result"
    }
   ],
   "source": [
    "obj_A.get_a()"
   ]
  },
  {
   "cell_type": "code",
   "execution_count": 14,
   "id": "e72631d8-e528-445d-9c3a-895d2484a76b",
   "metadata": {},
   "outputs": [],
   "source": [
    "obj_A.set_a(10)"
   ]
  },
  {
   "cell_type": "code",
   "execution_count": 15,
   "id": "2a2e8f7b-a103-4ab5-aa8c-1d65cfb1117e",
   "metadata": {},
   "outputs": [
    {
     "data": {
      "text/plain": [
       "10"
      ]
     },
     "execution_count": 15,
     "metadata": {},
     "output_type": "execute_result"
    }
   ],
   "source": [
    "obj_A.get_a()"
   ]
  },
  {
   "cell_type": "markdown",
   "id": "b33ad4e4-a04c-4f6d-a1d5-95a171bd0811",
   "metadata": {},
   "source": [
    "### Here `a` is a private variable, `get_a` is getter method and `set_a` is a setter method."
   ]
  },
  {
   "cell_type": "markdown",
   "id": "153685f9-b4af-4471-ab71-5c44ddf516a1",
   "metadata": {},
   "source": [
    "### Q5"
   ]
  },
  {
   "cell_type": "markdown",
   "id": "5b2f2503-9135-4046-aa04-b088ae308dab",
   "metadata": {},
   "source": [
    "### Method overriding allows child/base class to define a method that is already present in parent/super class"
   ]
  },
  {
   "cell_type": "markdown",
   "id": "de4b072f-5305-4809-aeef-611379125549",
   "metadata": {},
   "source": [
    "### For Example: If class A is parent class of class B and both can have __init__ methods/constructors with different implementations."
   ]
  },
  {
   "cell_type": "markdown",
   "id": "5a54956f-ce17-495c-81ed-0182c9b3c833",
   "metadata": {},
   "source": [
    "### Rules to override a method\n",
    "### 1. Overriding a method in same class is not allowed.\n",
    "### 2. Function/Method with same name and same number of parameters is required to override a method."
   ]
  },
  {
   "cell_type": "markdown",
   "id": "dacf7fcd-2bef-4564-8db6-8a41f42290e3",
   "metadata": {},
   "source": [
    "### Below is an example"
   ]
  },
  {
   "cell_type": "code",
   "execution_count": 16,
   "id": "9706259d-18ae-42aa-9d2b-6f8aec4f1e89",
   "metadata": {},
   "outputs": [],
   "source": [
    "#Example without method overriding.\n",
    "class A:\n",
    "    def __init__(self,a):\n",
    "        print(\"In class A with value: \",a)\n",
    "class B(A):\n",
    "    pass"
   ]
  },
  {
   "cell_type": "code",
   "execution_count": 17,
   "id": "72900f57-50d4-4231-9d33-3e9b297d07a0",
   "metadata": {},
   "outputs": [
    {
     "name": "stdout",
     "output_type": "stream",
     "text": [
      "In class A with value:  5\n"
     ]
    }
   ],
   "source": [
    "obj_B = B(5)"
   ]
  },
  {
   "cell_type": "code",
   "execution_count": 18,
   "id": "412538bf-5240-4337-9946-99e8b0c66c84",
   "metadata": {},
   "outputs": [],
   "source": [
    "#Example without method overriding.\n",
    "class A:\n",
    "    def __init__(self,a):\n",
    "        print(\"In class A with value: \",a)\n",
    "class B(A):\n",
    "    def __init__(self,a):\n",
    "        print(\"In class B with value: \",a)"
   ]
  },
  {
   "cell_type": "code",
   "execution_count": 19,
   "id": "af0f24fb-4c78-4103-bea1-e35d5a3ec757",
   "metadata": {},
   "outputs": [
    {
     "name": "stdout",
     "output_type": "stream",
     "text": [
      "In class B with value:  5\n"
     ]
    }
   ],
   "source": [
    "obj_B1 = B(5)"
   ]
  },
  {
   "cell_type": "markdown",
   "id": "0ee5afdf-449f-4520-b7c3-171b6c58a4d6",
   "metadata": {},
   "source": [
    "### In above example we have overriden constructor."
   ]
  }
 ],
 "metadata": {
  "kernelspec": {
   "display_name": "Python 3 (ipykernel)",
   "language": "python",
   "name": "python3"
  },
  "language_info": {
   "codemirror_mode": {
    "name": "ipython",
    "version": 3
   },
   "file_extension": ".py",
   "mimetype": "text/x-python",
   "name": "python",
   "nbconvert_exporter": "python",
   "pygments_lexer": "ipython3",
   "version": "3.10.8"
  }
 },
 "nbformat": 4,
 "nbformat_minor": 5
}
