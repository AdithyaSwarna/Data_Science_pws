{
 "cells": [
  {
   "cell_type": "markdown",
   "id": "79b94529-11c3-45cb-9c68-14293f238d32",
   "metadata": {},
   "source": [
    "### Q1"
   ]
  },
  {
   "cell_type": "markdown",
   "id": "029457b3-eff1-4560-87a2-d5e8257cc895",
   "metadata": {},
   "source": [
    "### A database is an organized collection of structured information, or data, typically stored electronically in a computer system. A database is usually controlled by a database management system (DBMS) in a way to easily access and manage.\n",
    "### Differences between SQL and NoSQL databases\n",
    "### The major difference between these is relational(SQL) and non-relational(NoSQL); and type of schema, fixed(SQL) and dynamic(NoSQL).\n",
    "|S.No|Category|SQL Database|NoSQL Database|\n",
    "|:--------:|:--------:|:--------:|:--------:|\n",
    "|1.|Type|Relational Database Management System.|Non-relational or distributed database system.|\n",
    "|2.|Schema Type|Fixed or static predefined|Dynamic|\n",
    "|3.|Scalability |Vertical i.e. can increase load on same server|Horizontal i.e. can add servers hence prefered for large applications|\n",
    "|4.|Structure|Table(row-column) based|key-value pairs, document-based, graph databases or wide-column stores.|\n",
    "|5.|Property followed|ACID-Atomicity, Consistency, Isolation and Durability|CAP-Consistency, Availability and Partition tolerance|\n",
    "|6.|Query type|These databases are best suited for complex queries|These databases are not so good for complex queries|\n",
    "|7.|Query languages|MySQL, PostgreSQL, Oracle, MS-SQL Server, etc|MongoDB, GraphQL, HBase, Neo4j, Cassandra, etc|"
   ]
  },
  {
   "cell_type": "markdown",
   "id": "670358ef-c3a9-4777-bc3d-a0623855c6fd",
   "metadata": {},
   "source": [
    "### Q2"
   ]
  },
  {
   "cell_type": "markdown",
   "id": "f2937be9-92c2-4d41-98c2-36a5f70bfabd",
   "metadata": {},
   "source": [
    "### Data Definition Language(DDL) is a subset of SQL and a part of DBMS(Database Management System). As name tells DDL commands are for defining tables. DDL consist of Commands like CREATE, ALTER, TRUNCATE and DROP.\n",
    "### CREATE - used to create a table.\n",
    "```SQL\n",
    "CREATE TABLE BOOK\n",
    "(\n",
    "book_Id number(2),\n",
    "book_name varchar(30),\n",
    ");\n",
    "```\n",
    "### DROP - used to delete/remove an existing table.\n",
    "```SQL\n",
    "DROP TABLE BOOK;\n",
    "```\n",
    "### ALTER - used to add, delete or change columns in the existing table.\n",
    "```SQL\n",
    "ALTER TABLE BOOK\n",
    "ADD Author varchar(30);\n",
    "\n",
    "ALTER TABLE BOOK\n",
    "MODIFY book_name varchar(40);\n",
    "```\n",
    "### TRUNCATE - used to remove all rows from the table, but the structure of the table still exists.\n",
    "```SQL\n",
    "TRUNCATE TABLE BOOK;\n",
    "```"
   ]
  },
  {
   "cell_type": "markdown",
   "id": "d0dbd268-6b5e-4ac5-97a3-0d6ed59c3750",
   "metadata": {},
   "source": [
    "### Q3"
   ]
  },
  {
   "cell_type": "markdown",
   "id": "d45d4ee3-2d21-4ae0-b795-420dd6330f51",
   "metadata": {},
   "source": [
    "### Data Manipulation Language(DML) is a subset of SQL and a part of DBMS(Database Management System). As name tells DML commands are for manipulating/changing data in tables. DML consist of Commands like INSERT, UPDATE, DELETE and LOCK.\n",
    "### INSERT - used to insert data into table.\n",
    "```SQL\n",
    "INSERT INTO BOOK (book_Id,book_name,Author) VALUE ('1','ABC','ABC');\n",
    "```\n",
    "### UPDATE - used to update existing data within a table.\n",
    "```SQL\n",
    "UPDATE BOOK SET Author = 'Adithya' WHERE book_name = 'ABC';\n",
    "UPDATE BOOK SET Author = 'Adithya', book_Id = '1' WHERE book_name = 'ABC';\n",
    "```\n",
    "### DELETE - used to delete records from table.\n",
    "```SQL\n",
    "DELETE FROM BOOK WHERE book_name = 'ABC'\n",
    "```"
   ]
  },
  {
   "cell_type": "markdown",
   "id": "cb9f834a-ad08-4222-b061-52c546ac3ced",
   "metadata": {},
   "source": [
    "### Q4"
   ]
  },
  {
   "cell_type": "markdown",
   "id": "712840e8-e616-4787-9a46-d05c96f00c2c",
   "metadata": {},
   "source": [
    "### Data Query Language(DQL) is a subset of SQL and a part of DBMS(Database Management System). As name tells DQL commands are retrieve data from tables. DQL consist of Commands like SELECT.\n",
    "### SELECT - used to select data in required format from a table.\n",
    "```SQL\n",
    "SELECT * FROM BOOK;\n",
    "\n",
    "SELECT book_Id FROM BOOK;\n",
    "\n",
    "SELECT book_Id FROM BOOK WHERE book_name = 'ABC';\n",
    "```"
   ]
  },
  {
   "cell_type": "markdown",
   "id": "bd9a7a91-8aad-4611-bf1f-87a32b2b89a8",
   "metadata": {},
   "source": [
    "### Q5"
   ]
  },
  {
   "cell_type": "markdown",
   "id": "390c5b3a-97e4-4e2a-9465-73d59935a92a",
   "metadata": {},
   "source": [
    "### Primary Key - A primary key is the column or combination of columns that contain values that uniquely identify each row in a table. A database table is highly preferable to have a primary key for insert, update, restore, or delete data operation from a database table. Example: book_Id in BOOK table.\n",
    "### Foreign Key - A foreign key is a column or combination of columns in a table whose values must match values of a column in some other table. Example: An employees department id in employee table and department id will be primary key of department table."
   ]
  },
  {
   "cell_type": "markdown",
   "id": "c9df0991-dc34-4c9a-aeeb-6f68e4179a0a",
   "metadata": {},
   "source": [
    "### Q6"
   ]
  },
  {
   "cell_type": "markdown",
   "id": "1bcacf64-8dd5-4242-8447-250c16fdcc43",
   "metadata": {},
   "source": [
    "### Below is the code to connect MySQL. First 6 lines are written to establish a connection. `cursor()` is the method to get the cursor object which later can be used for other methods(as shown in below query) like `fetch()`, etc. `execute()` is the method which takes an sql query as paramaeter and executes the query(as shown in below query).\n",
    "```Python\n",
    "import mysql.connector\n",
    "\n",
    "mydb = mysql.connector.connect(\n",
    "    host = 'localhost',\n",
    "    user = 'abc',\n",
    "    password = 'password'\n",
    ")\n",
    "\n",
    "mycursor = mydb.cursor()\n",
    "\n",
    "mycursor.execute(\"select * from test1.test_table\")\n",
    "print(mycursor.fetchall())\n",
    "\n",
    "mycursor.execute(\"select * from test1.test_table\")\n",
    "for i in mycursor.fetchall():\n",
    "    print(i)\n",
    "\n",
    "mydb.close()\n",
    "```"
   ]
  },
  {
   "cell_type": "markdown",
   "id": "eabb85c8-39ad-40fd-9a8f-6119dbf26b81",
   "metadata": {},
   "source": [
    "### Q7"
   ]
  },
  {
   "cell_type": "markdown",
   "id": "15152937-fa1c-403a-9617-96849aaf05fb",
   "metadata": {},
   "source": [
    "### The order in which the clauses in queries are executed is as follows:\n",
    "1. FROM/JOIN\n",
    "2. WHERE\n",
    "3. GROUP BY\n",
    "4. HAVING\n",
    "5. SELECT\n",
    "6. ORDER BY\n",
    "7. LIMIT/OFFSET"
   ]
  }
 ],
 "metadata": {
  "kernelspec": {
   "display_name": "Python 3 (ipykernel)",
   "language": "python",
   "name": "python3"
  },
  "language_info": {
   "codemirror_mode": {
    "name": "ipython",
    "version": 3
   },
   "file_extension": ".py",
   "mimetype": "text/x-python",
   "name": "python",
   "nbconvert_exporter": "python",
   "pygments_lexer": "ipython3",
   "version": "3.10.8"
  }
 },
 "nbformat": 4,
 "nbformat_minor": 5
}
