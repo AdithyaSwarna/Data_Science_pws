{
 "cells": [
  {
   "cell_type": "markdown",
   "id": "1bcf1479-7d1b-43a0-b65e-57a295304e91",
   "metadata": {},
   "source": [
    "### Q1\n",
    "### `def` is the keyword used to create a function"
   ]
  },
  {
   "cell_type": "code",
   "execution_count": 1,
   "id": "bdda5071-696f-4d0b-b51e-3f0f8b2a6826",
   "metadata": {},
   "outputs": [
    {
     "data": {
      "text/plain": [
       "[1, 3, 5, 7, 9, 11, 13, 15, 17, 19, 21, 23, 25]"
      ]
     },
     "execution_count": 1,
     "metadata": {},
     "output_type": "execute_result"
    }
   ],
   "source": [
    "def odd_1to25():\n",
    "    l=[]\n",
    "    for i in range(1,26):\n",
    "        if i%2!=0:\n",
    "            l.append(i)\n",
    "    return l\n",
    "odd_1to25()"
   ]
  },
  {
   "cell_type": "markdown",
   "id": "f949e868-db88-4f46-808d-93c968d8a306",
   "metadata": {},
   "source": [
    "### Q2\n",
    "### `*args` is used to take any number of parameters for a function, these inputs will be available in tuple called args and args is not a keyword so any name can be given. `**kwargs` will also take any number of formats but in form of key value pairs and kwargs is not a keyword so any name can be given.\n",
    "### Below is an example"
   ]
  },
  {
   "cell_type": "code",
   "execution_count": 2,
   "id": "569f0798-8703-4565-8a08-d1e302babfd2",
   "metadata": {},
   "outputs": [],
   "source": [
    "def func(*args,**kwargs):\n",
    "    return args,kwargs"
   ]
  },
  {
   "cell_type": "code",
   "execution_count": 3,
   "id": "3b2c26b4-2f0e-4b20-8a1d-283105314e5e",
   "metadata": {},
   "outputs": [
    {
     "data": {
      "text/plain": [
       "((1, 2, 3, 4, 5), {'a': 1, 'b': 10, 'c': 100})"
      ]
     },
     "execution_count": 3,
     "metadata": {},
     "output_type": "execute_result"
    }
   ],
   "source": [
    "func(1,2,3,4,5,a=1,b=10,c=100)"
   ]
  },
  {
   "cell_type": "markdown",
   "id": "f14638a1-f99c-4546-b83c-941ad523702d",
   "metadata": {},
   "source": [
    "### Here 1,2,3,4,5 are received by *args and a,b,c are recieved by **kwargs. By these we can pass n number of parameters to a function without mentioning each one of them in function parameters section"
   ]
  },
  {
   "cell_type": "markdown",
   "id": "9167d900-dcfd-43ab-ac03-09da15cf16cf",
   "metadata": {},
   "source": [
    "### Q3\n",
    "### Iterator is an object that is used to iterate over iterable objects like lists, tuples, dicts, and sets.\n",
    "### `iter()` is the method used to initialise iterator object and `next()` is the method used for iteration"
   ]
  },
  {
   "cell_type": "code",
   "execution_count": 4,
   "id": "473173ff-9e68-401b-adc0-6cebab45184d",
   "metadata": {},
   "outputs": [
    {
     "name": "stdout",
     "output_type": "stream",
     "text": [
      "2\n",
      "4\n",
      "6\n",
      "8\n",
      "10\n"
     ]
    }
   ],
   "source": [
    "l = [2, 4, 6, 8, 10, 12, 14, 16, 18, 20]\n",
    "iterator = iter(l)\n",
    "for i in range(5):\n",
    "    print(next(iterator))"
   ]
  },
  {
   "cell_type": "markdown",
   "id": "07a5edf4-19f2-4376-aced-88360bc00ca0",
   "metadata": {},
   "source": [
    "### Q4\n",
    "### Generator function is a special type of function which does not return a single value, instead, it returns an iterator object with a sequence of values. This achieved by using yield keyword.\n",
    "### Yield keyword is used to create generator functions.\n",
    "### Below is the example of generator function."
   ]
  },
  {
   "cell_type": "code",
   "execution_count": 5,
   "id": "231c9ff4-24e0-46fd-a1c1-11c25ba3b374",
   "metadata": {},
   "outputs": [
    {
     "data": {
      "text/plain": [
       "<generator object test_fib at 0x7f29770f73e0>"
      ]
     },
     "execution_count": 5,
     "metadata": {},
     "output_type": "execute_result"
    }
   ],
   "source": [
    "def test_fib(n) :\n",
    "    a,b = 0,1\n",
    "    for i in range(n):\n",
    "        yield a \n",
    "        a,b = b ,a+b\n",
    "test_fib(5)"
   ]
  },
  {
   "cell_type": "code",
   "execution_count": 6,
   "id": "96381d2c-5bc9-4141-b1ee-5e64f352f437",
   "metadata": {},
   "outputs": [
    {
     "data": {
      "text/plain": [
       "0"
      ]
     },
     "execution_count": 6,
     "metadata": {},
     "output_type": "execute_result"
    }
   ],
   "source": [
    "x = test_fib(10)\n",
    "#we can use next() or for loop\n",
    "next(x)"
   ]
  },
  {
   "cell_type": "code",
   "execution_count": 7,
   "id": "fc1af280-7e6c-4366-8b9c-4c9664f99e98",
   "metadata": {},
   "outputs": [
    {
     "data": {
      "text/plain": [
       "1"
      ]
     },
     "execution_count": 7,
     "metadata": {},
     "output_type": "execute_result"
    }
   ],
   "source": [
    "next(x)"
   ]
  },
  {
   "cell_type": "code",
   "execution_count": 8,
   "id": "d4b77914-70a3-42cd-83ba-8787edb2b9f6",
   "metadata": {},
   "outputs": [
    {
     "name": "stdout",
     "output_type": "stream",
     "text": [
      "1\n",
      "2\n",
      "3\n",
      "5\n",
      "8\n",
      "13\n",
      "21\n",
      "34\n"
     ]
    }
   ],
   "source": [
    "for i in x:\n",
    "    print(i)"
   ]
  },
  {
   "cell_type": "markdown",
   "id": "3d660a6c-b735-49c8-8c90-014b64c8db6e",
   "metadata": {},
   "source": [
    "### Q5"
   ]
  },
  {
   "cell_type": "code",
   "execution_count": 12,
   "id": "ce71651b-83dd-4263-ab1e-76e4f810c82c",
   "metadata": {},
   "outputs": [],
   "source": [
    "from math import sqrt\n",
    "\n",
    "def is_prime(n):\n",
    "    if (n <= 1):\n",
    "        return False\n",
    "    if (n == 2):\n",
    "        return True\n",
    "    if (n % 2 == 0):\n",
    "        return False\n",
    "\n",
    "    i = 3\n",
    "    while i <= sqrt(n):\n",
    "        if n % i == 0:\n",
    "            return False\n",
    "        i = i + 2\n",
    "\n",
    "    return True\n",
    "\n",
    "def prime_generator():\n",
    "    n = 1\n",
    "    while n<1000:\n",
    "        n += 1\n",
    "        if is_prime(n):\n",
    "            yield n\n",
    "            \n",
    "gen = prime_generator()"
   ]
  },
  {
   "cell_type": "code",
   "execution_count": 13,
   "id": "3ab3310d-fffe-4b16-8c97-ee0e6dbd6950",
   "metadata": {},
   "outputs": [
    {
     "name": "stdout",
     "output_type": "stream",
     "text": [
      "2\n",
      "3\n",
      "5\n",
      "7\n",
      "11\n",
      "13\n",
      "17\n",
      "19\n",
      "23\n",
      "29\n",
      "31\n",
      "37\n",
      "41\n",
      "43\n",
      "47\n",
      "53\n",
      "59\n",
      "61\n",
      "67\n",
      "71\n"
     ]
    }
   ],
   "source": [
    "for i in range(20):\n",
    "    print(next(gen))"
   ]
  }
 ],
 "metadata": {
  "kernelspec": {
   "display_name": "Python 3 (ipykernel)",
   "language": "python",
   "name": "python3"
  },
  "language_info": {
   "codemirror_mode": {
    "name": "ipython",
    "version": 3
   },
   "file_extension": ".py",
   "mimetype": "text/x-python",
   "name": "python",
   "nbconvert_exporter": "python",
   "pygments_lexer": "ipython3",
   "version": "3.10.8"
  }
 },
 "nbformat": 4,
 "nbformat_minor": 5
}
