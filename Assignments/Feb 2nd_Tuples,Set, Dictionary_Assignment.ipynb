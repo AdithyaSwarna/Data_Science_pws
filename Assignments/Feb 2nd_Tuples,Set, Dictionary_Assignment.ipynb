{
 "cells": [
  {
   "cell_type": "markdown",
   "id": "e1ec0245-3517-4ea5-8019-8e80c8fe4b8f",
   "metadata": {},
   "source": [
    "### Q1\n",
    "### Characteristics of tuple\n",
    "### 1. Indexed\n",
    "### 2. Ordered\n",
    "### 3. Can contain duplicates\n",
    "### 4. Can store various data types like integers, lists, dictionaries, strings, etc.\n",
    "### Yes, tuples are immutable."
   ]
  },
  {
   "cell_type": "markdown",
   "id": "4a2b9c65-58f3-4189-888c-4b0562ddbbd7",
   "metadata": {},
   "source": [
    "### Q2\n",
    "### The two tuple methods are\n",
    "### 1. count()\n",
    "### 2. index()\n",
    "### Below are examples"
   ]
  },
  {
   "cell_type": "code",
   "execution_count": 1,
   "id": "203312ed-121f-4c39-a4bc-d3a0c5e37cca",
   "metadata": {},
   "outputs": [
    {
     "name": "stdout",
     "output_type": "stream",
     "text": [
      "Count method:  2\n",
      "Index method:  0\n"
     ]
    }
   ],
   "source": [
    "t = (1,2,3,3)\n",
    "print(\"Count method: \",t.count(3))\n",
    "print(\"Index method: \",t.index(1))"
   ]
  },
  {
   "cell_type": "markdown",
   "id": "a164d942-a2d2-4c50-82da-da339e5a2e0c",
   "metadata": {},
   "source": [
    "### Tuple has only two methods because tuple is immutable so methods like append, extend, add, pop, etc. will not be valid."
   ]
  },
  {
   "cell_type": "markdown",
   "id": "a07743ba-21da-4abe-979f-ee1d801aca77",
   "metadata": {},
   "source": [
    "### Q3\n",
    "### Set datatype doesn't allow duplicate items\n",
    "### Below is the code to remove duplicates from the given list"
   ]
  },
  {
   "cell_type": "code",
   "execution_count": 3,
   "id": "70c1e220-20ba-43ec-954f-5a55b31ed21e",
   "metadata": {},
   "outputs": [],
   "source": [
    "l = [1, 1, 1, 2, 1, 3, 1, 4, 2, 1, 2, 2, 2, 3, 2, 4, 3, 1, 3, 2, 3, 3, 3, 4, 4, 1, 4, 2, 4, 3, 4, 4]"
   ]
  },
  {
   "cell_type": "code",
   "execution_count": 4,
   "id": "a2abf504-fbfe-464f-b9da-0a8cca9dca9c",
   "metadata": {},
   "outputs": [
    {
     "data": {
      "text/plain": [
       "{1, 2, 3, 4}"
      ]
     },
     "execution_count": 4,
     "metadata": {},
     "output_type": "execute_result"
    }
   ],
   "source": [
    "set(l)"
   ]
  },
  {
   "cell_type": "markdown",
   "id": "ed409361-8879-43b6-b5ba-8d13eef8928a",
   "metadata": {},
   "source": [
    "### Q4\n",
    "### When we run union and update methods for two sets we get same output but the difference in two methods is where the result gets stored. In union method ouput is returned but not stored in the given sets whereas update method stroes the output in set itself.\n",
    "### Definitions of \n",
    "### union(): Return a set that contains all items from both sets, duplicates are excluded\n",
    "### update(): updates the current set, by adding items from another set (or any other iterable)\n",
    "### below are examples"
   ]
  },
  {
   "cell_type": "code",
   "execution_count": 1,
   "id": "6593845a-770a-4a30-9fd0-31ae1c0dadce",
   "metadata": {},
   "outputs": [],
   "source": [
    "a = {'a','b','c'}\n",
    "b = {'d','e','c'}"
   ]
  },
  {
   "cell_type": "code",
   "execution_count": 2,
   "id": "b343f47c-8d8a-4f4c-9480-a67de8b42056",
   "metadata": {},
   "outputs": [
    {
     "data": {
      "text/plain": [
       "{'a', 'b', 'c', 'd', 'e'}"
      ]
     },
     "execution_count": 2,
     "metadata": {},
     "output_type": "execute_result"
    }
   ],
   "source": [
    "a.union(b)"
   ]
  },
  {
   "cell_type": "code",
   "execution_count": 4,
   "id": "f7fa488b-3a2a-4109-9c75-f288a4fef43a",
   "metadata": {},
   "outputs": [
    {
     "name": "stdout",
     "output_type": "stream",
     "text": [
      "a= {'c', 'b', 'a'} b= {'e', 'c', 'd'}\n"
     ]
    }
   ],
   "source": [
    "#here a and b will still be same\n",
    "print(\"a=\",a,\"b=\",b)"
   ]
  },
  {
   "cell_type": "code",
   "execution_count": 5,
   "id": "d8a7ecff-dff5-471e-835c-5f85f28680b9",
   "metadata": {},
   "outputs": [],
   "source": [
    "a.update(b)"
   ]
  },
  {
   "cell_type": "code",
   "execution_count": 6,
   "id": "8968f983-c519-44a9-b1ab-b437112b7be3",
   "metadata": {},
   "outputs": [
    {
     "name": "stdout",
     "output_type": "stream",
     "text": [
      "a= {'c', 'b', 'e', 'd', 'a'} b= {'e', 'c', 'd'}\n"
     ]
    }
   ],
   "source": [
    "#here a gets updated but b will still be same\n",
    "print(\"a=\",a,\"b=\",b)"
   ]
  },
  {
   "cell_type": "markdown",
   "id": "10700329-3054-4da7-8170-007839fa5d3b",
   "metadata": {},
   "source": [
    "### Q5\n",
    "### Dictionary is python built in data structure/collection which is used to store values in key:value format\n",
    "### In Python 3.6 and earlier, dictionaries are unordered. From Python version 3.7, dictionaries are ordered.\n",
    "### below is a sample dictionary."
   ]
  },
  {
   "cell_type": "code",
   "execution_count": 7,
   "id": "aa3f3116-ecea-4a7e-bc02-7fe533ffbd74",
   "metadata": {},
   "outputs": [],
   "source": [
    "d = {'k':'v','k1':'v1'}"
   ]
  },
  {
   "cell_type": "code",
   "execution_count": 8,
   "id": "d227de9c-d6a3-4999-a9bc-f185884292e5",
   "metadata": {},
   "outputs": [
    {
     "data": {
      "text/plain": [
       "{'k': 'v', 'k1': 'v1'}"
      ]
     },
     "execution_count": 8,
     "metadata": {},
     "output_type": "execute_result"
    }
   ],
   "source": [
    "d"
   ]
  },
  {
   "cell_type": "markdown",
   "id": "3526ec2a-3ce2-4d4e-9be2-25b8d5787fa4",
   "metadata": {},
   "source": [
    "### Q6\n",
    "### Yes, we can create a nested dictionary. Below is an example of simple one-level ."
   ]
  },
  {
   "cell_type": "code",
   "execution_count": 9,
   "id": "2a362f9e-6240-4cef-a85f-711568524271",
   "metadata": {},
   "outputs": [],
   "source": [
    "d = {'k' : {'k1' : 'v1', 'k2' : 'v2'}}"
   ]
  },
  {
   "cell_type": "code",
   "execution_count": 10,
   "id": "31e75c81-df1b-4812-9cfc-4206c1cc3b7b",
   "metadata": {},
   "outputs": [
    {
     "data": {
      "text/plain": [
       "{'k': {'k1': 'v1', 'k2': 'v2'}}"
      ]
     },
     "execution_count": 10,
     "metadata": {},
     "output_type": "execute_result"
    }
   ],
   "source": [
    "d"
   ]
  },
  {
   "cell_type": "markdown",
   "id": "ee428b6c-d229-4262-ba91-1060a7cd1e91",
   "metadata": {},
   "source": [
    "### Here key is 'k' and value is dictionary i.e. {'k1' : 'v1', 'k2' : 'v2'}"
   ]
  },
  {
   "cell_type": "markdown",
   "id": "98540726-5ba7-4fd9-9b01-a1c27b2907f0",
   "metadata": {},
   "source": [
    "### Q7"
   ]
  },
  {
   "cell_type": "code",
   "execution_count": 12,
   "id": "dca42aeb-f318-44e2-833f-edf8fea40aef",
   "metadata": {},
   "outputs": [],
   "source": [
    "dict1 = {'language' : 'Python', 'course': 'Data Science Masters'}"
   ]
  },
  {
   "cell_type": "code",
   "execution_count": 13,
   "id": "0d61a67b-8871-41a6-a2c2-31adc8bf2148",
   "metadata": {},
   "outputs": [
    {
     "data": {
      "text/plain": [
       "{'language': 'Python', 'course': 'Data Science Masters'}"
      ]
     },
     "execution_count": 13,
     "metadata": {},
     "output_type": "execute_result"
    }
   ],
   "source": [
    "dict1"
   ]
  },
  {
   "cell_type": "code",
   "execution_count": 15,
   "id": "81938c90-b82a-493d-a97c-02224fdff9e3",
   "metadata": {},
   "outputs": [
    {
     "data": {
      "text/plain": [
       "['Python', 'Machine Learning', 'Deep Learning']"
      ]
     },
     "execution_count": 15,
     "metadata": {},
     "output_type": "execute_result"
    }
   ],
   "source": [
    "x = dict1.setdefault('topics', ['Python', 'Machine Learning', 'Deep Learning'])\n",
    "x"
   ]
  },
  {
   "cell_type": "markdown",
   "id": "3cbda9d6-70c5-4fd8-831e-939e9e75f971",
   "metadata": {},
   "source": [
    "### Here, if dict1 already have topics key then x would have that value as topics key doen't exists so x is having the value which is set via setdefault method"
   ]
  },
  {
   "cell_type": "code",
   "execution_count": 16,
   "id": "ecd49b18-b2d0-400c-af5f-2c9d318905ef",
   "metadata": {},
   "outputs": [
    {
     "data": {
      "text/plain": [
       "{'language': 'Python',\n",
       " 'course': 'Data Science Masters',\n",
       " 'topics': ['Python', 'Machine Learning', 'Deep Learning']}"
      ]
     },
     "execution_count": 16,
     "metadata": {},
     "output_type": "execute_result"
    }
   ],
   "source": [
    "dict1"
   ]
  },
  {
   "cell_type": "markdown",
   "id": "04afe05a-d9f5-4cf0-9362-360f692ec7f4",
   "metadata": {},
   "source": [
    "### Q8\n",
    "### The three view objects in dictionaries are keys, values and items. These are dynamic view objects. Keys hold all keys, values hold all values and items hold all key:value pairs of a dictionary."
   ]
  },
  {
   "cell_type": "code",
   "execution_count": 17,
   "id": "852004a1-14c3-4343-93b1-3cd2dc05ba31",
   "metadata": {},
   "outputs": [],
   "source": [
    "dict1 = {'Sport': 'Cricket' , 'Teams': ['India', 'Australia', 'England', 'South Africa', 'Sri Lanka', 'New Zealand']}"
   ]
  },
  {
   "cell_type": "code",
   "execution_count": 18,
   "id": "b0f4f6ec-fc92-48e4-9287-df4d866024f8",
   "metadata": {},
   "outputs": [
    {
     "data": {
      "text/plain": [
       "dict_keys(['Sport', 'Teams'])"
      ]
     },
     "execution_count": 18,
     "metadata": {},
     "output_type": "execute_result"
    }
   ],
   "source": [
    "dict1.keys()"
   ]
  },
  {
   "cell_type": "code",
   "execution_count": 19,
   "id": "51d543d1-426a-476c-8c82-7778a7fe0df8",
   "metadata": {},
   "outputs": [
    {
     "data": {
      "text/plain": [
       "dict_values(['Cricket', ['India', 'Australia', 'England', 'South Africa', 'Sri Lanka', 'New Zealand']])"
      ]
     },
     "execution_count": 19,
     "metadata": {},
     "output_type": "execute_result"
    }
   ],
   "source": [
    "dict1.values()"
   ]
  },
  {
   "cell_type": "code",
   "execution_count": 20,
   "id": "aea5270b-233d-44b7-a965-3ed0a24f7360",
   "metadata": {},
   "outputs": [
    {
     "data": {
      "text/plain": [
       "dict_items([('Sport', 'Cricket'), ('Teams', ['India', 'Australia', 'England', 'South Africa', 'Sri Lanka', 'New Zealand'])])"
      ]
     },
     "execution_count": 20,
     "metadata": {},
     "output_type": "execute_result"
    }
   ],
   "source": [
    "dict1.items()"
   ]
  }
 ],
 "metadata": {
  "kernelspec": {
   "display_name": "Python 3 (ipykernel)",
   "language": "python",
   "name": "python3"
  },
  "language_info": {
   "codemirror_mode": {
    "name": "ipython",
    "version": 3
   },
   "file_extension": ".py",
   "mimetype": "text/x-python",
   "name": "python",
   "nbconvert_exporter": "python",
   "pygments_lexer": "ipython3",
   "version": "3.10.8"
  }
 },
 "nbformat": 4,
 "nbformat_minor": 5
}
