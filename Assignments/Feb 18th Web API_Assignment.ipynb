{
 "cells": [
  {
   "cell_type": "markdown",
   "id": "ddcf9b69-d036-4a05-8980-76de3116abbd",
   "metadata": {},
   "source": [
    "### Q1"
   ]
  },
  {
   "cell_type": "markdown",
   "id": "e2052780-71fa-4210-a335-33dcc2b57e1b",
   "metadata": {},
   "source": [
    "### APIs are a piece of code through which two systems or applications talk to one another. A document or standard that describes how to build or use such a connection or interface is called an API specification.\n",
    "### A real life examples are:\n",
    "1. Razorpay API payment system to any e-commerce or service provider.\n",
    "2. WhatsApp API for businesses to communicate with users.\n",
    "3. Alexa’s got the Reminders API and the Smart Home Skills API to develope to automate a host of reminders and smart home services using simple voice commands."
   ]
  },
  {
   "cell_type": "markdown",
   "id": "b9dab924-7eaa-4113-b226-2c2f35342627",
   "metadata": {},
   "source": [
    "### Q2"
   ]
  },
  {
   "cell_type": "markdown",
   "id": "63696e42-c11c-4432-a678-59d03827d3ee",
   "metadata": {},
   "source": [
    "### Advantages of API\n",
    "1. No need to build from scratch to get data/information from a third party system irrespective of other systems language, framework, etc. used.\n",
    "2. Both the systems (ours and third party's) are not required to expose thier internal structure. APIs just take the required information and return only the required information.\n",
    "3. Internet-based connectivity\n",
    "4. Communication is two-way with confirmations included within the transaction sets\n",
    "5. Offers reliable transaction sets\n",
    "\n",
    "### Disadvantages of API\n",
    "1. Implementing and providing API capabilities can be costly in terms of development times, ongoing maintenance requirements, and providing support.\n",
    "2. Scaling API requires extensive programming knowledge.\n",
    "3. Security can be a concern as APIs add another potential attack layer to programs/websites."
   ]
  },
  {
   "cell_type": "markdown",
   "id": "fa933a2a-9f56-4c1e-923d-dac7df04673f",
   "metadata": {},
   "source": [
    "### Q3"
   ]
  },
  {
   "cell_type": "markdown",
   "id": "3c62ce29-6bc8-4542-a494-c23029c101c9",
   "metadata": {},
   "source": [
    "### Web API as the name suggests, is an API over the web which can be accessed using HTTP protocol. It is a concept and not a technology. We can build Web API using different technologies such as Python(Flask), Java, .NET etc.\n",
    "### Difference between API and Web API is Web API are API on Web built which can be accessed using HTTP. Whereas APIs reside between the web server and application and act as a middle-man between the client and the server."
   ]
  },
  {
   "cell_type": "markdown",
   "id": "a68d5892-1d56-4114-85bc-fff2dfd570d8",
   "metadata": {},
   "source": [
    "### Q4"
   ]
  },
  {
   "cell_type": "markdown",
   "id": "d8f193c7-9ff3-4b15-9111-b36d794eb65f",
   "metadata": {},
   "source": [
    "### REST - REresentational State Transfer\n",
    "### REST is a set of architectural principles attuned to the needs of lightweight web services and mobile applications. Because it's a set of guidelines, it leaves the implementation of these recommendations to developers. When a request for data is sent to a REST API, it’s usually done through HyperText Transfer Protocol (HTTP). Once a request is received, APIs designed for REST (called RESTful APIs or RESTful web services) can return messages in a variety of formats: HTML, XML, plain text, and JSON. JSON (JavaScript object notation) is favored as a message format because it can be read by any programming language (despite the name), is human- and machine-readable, and is lightweight. In this way, RESTful APIs are more flexible and can be easier to set up.\n",
    "\n",
    "### An application is said to be RESTful if it follows 6 architectural guidelines. A RESTful application must have:\n",
    "1. A client-server architecture composed of clients, servers, and resources.\n",
    "2. Stateless client-server communication, meaning no client content is stored on the server between requests. Information about the session’s state is instead held with the client.\n",
    "3. Cacheable data to eliminate the need for some client-server interactions.\n",
    "4. A uniform interface between components so that information is transferred in a standardized form instead of specific to an application’s needs.\n",
    "5. A layered system constraint, where client-server interactions can be mediated by hierarchical layers.\n",
    "6. Code on demand, allowing servers to extend the functionality of a client by transferring executable code (though also reducing visibility, making this an optional guideline).\n",
    "\n",
    "### SOAP - Simple Object Access Protocol\n",
    "### SOAP is a standard protocol that was first designed so that applications built with different languages and on different platforms could communicate. Because it is a protocol, it imposes built-in rules that increase its complexity and overhead, which can lead to longer page load times. However, these standards also offer built-in compliances that can make it preferable for enterprise scenarios. The built-in compliance standards include security, atomicity, consistency, isolation, and durability (ACID), which is a set of properties for ensuring reliable database transactions.\n",
    "\n",
    "### Common web service specifications include:\n",
    "1. Web services security (WS-security): Standardizes how messages are secured and transferred through unique identifiers called tokens.\n",
    "2. WS-ReliableMessaging: Standardizes error handling between messages transferred across unreliable IT infrastructure.\n",
    "3. Web services addressing (WS-addressing): Packages routing information as metadata within SOAP headers, instead of maintaining such information deeper within the network.\n",
    "4. Web services description language (WSDL): Describes what a web service does, and where that service begins and ends.\n",
    "\n",
    "### When a request for data is sent to a SOAP API, it can be handled through any of the application layer protocols: HTTP (for web browsers), SMTP (for email), TCP, and others. However, once a request is received, return SOAP messages must be returned as XML documents—a markup language that is both human- and machine-readable. A completed request to a SOAP API is not cacheable by a browser, so it cannot be accessed later without resending to the API.\n",
    "\n",
    "### Shortcomings of SOAP\n",
    "1. Highly complex: In comparison to Rest, SOAP is significantly more complex. It's also less flexible. This might present a challenge for developers. The extensive processing required may also slow down performance.\n",
    "2. No variety of data formats: SOAP is also extremely limited in its support of data formats. The formats supported by Rest include HTML, JSON, YAML, XML and others. Meanwhile, SOAP only supports XML.\n",
    "3. API calls are not cached: It's not possible for SOAP API calls to be cached. There might be a case to call again for same result.\n",
    "4. Uses more bandwidth"
   ]
  },
  {
   "cell_type": "markdown",
   "id": "5af29c97-24fa-475e-a5fc-621ac391fe44",
   "metadata": {},
   "source": [
    "### Q5"
   ]
  },
  {
   "cell_type": "markdown",
   "id": "e2243599-9153-45f0-a241-48ac9430ad0d",
   "metadata": {},
   "source": [
    "|S.No|REST|SOAP|\n",
    "|:--------:|:--------:|:--------:|\n",
    "|1.|Relies on REST (Representational State Transfer) architecture using HTTP.|Relies on SOAP (Simple Object Access Protocol)|\n",
    "|2.|Can transport data in any format.|Can transport data only in XML|\n",
    "|3.|It works with GET, POST, PUT, DELETE|Because it is XML based and relies on SOAP, it works with WSDL|\n",
    "|4.|Works over HTTP and HTTPS|Works over HTTP, HTTPS, SMTP, XMPP, TCP|\n",
    "|5.|Less structured|Highly structured|\n",
    "|6.|Majorly designed considering for mobile devices|Majorly designed considering for large applicaions|"
   ]
  }
 ],
 "metadata": {
  "kernelspec": {
   "display_name": "Python 3 (ipykernel)",
   "language": "python",
   "name": "python3"
  },
  "language_info": {
   "codemirror_mode": {
    "name": "ipython",
    "version": 3
   },
   "file_extension": ".py",
   "mimetype": "text/x-python",
   "name": "python",
   "nbconvert_exporter": "python",
   "pygments_lexer": "ipython3",
   "version": "3.10.8"
  }
 },
 "nbformat": 4,
 "nbformat_minor": 5
}
